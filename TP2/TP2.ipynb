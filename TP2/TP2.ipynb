{
  "cells": [
    {
      "cell_type": "markdown",
      "metadata": {
        "id": "4mh2MiuVMazk"
      },
      "source": [
        "# TP2 - Market Basket Analysis \n",
        "INF8111 - Fouille de données, Automne 2022\n",
        "### Membres de l'équipe / Team Components\n",
        "    - Mohammed Amin, Nawras (1962832)\n",
        "    - Patel, Pritam (1933097)\n",
        "    - Islam, Mohammed Ariful (1950221)\n"
      ]
    },
    {
      "cell_type": "markdown",
      "metadata": {
        "id": "bh1o2bpwPQJG"
      },
      "source": [
        "## Date et directives de remise / Delivery date and instructions\n",
        "Vous remettrez ce fichier nommé TP2\\_NomDuMembre1\\_NomDuMembre2\\_NomDuMembre3.ipynb dans la boîte de remise sur moodle. \n",
        "\n",
        "**Date limite: Novembre 6 at 23:55**.\n",
        "___\n",
        "You should upload the file named TP2\\_nameOfMember1\\_nameOfMember2\\_nameOfMember3.ipynb on moodle.\n",
        "\n",
        "Everything must be uploaded before **November 6th at 23:55**."
      ]
    },
    {
      "cell_type": "markdown",
      "metadata": {
        "id": "VmJEz5JEMazl"
      },
      "source": [
        "## 1. Introduction: Market Basket Analysis\n",
        "\n",
        "Le *Market Basket Analysis* (MBA) est une technique d'analyse de la fouille de données qui permet de découvrir les associations entre les produits ou leur regroupement. En explorant des motifs intéressants à partir d'une vaste collection de données, le MBA vise à comprendre / révéler les comportements d'achat des clients en se basant sur la théorie selon laquelle si vous avez acheté un certain ensemble de produits, vous êtes plus (ou moins) susceptible d'acheter un autre groupe de produits. En d'autres termes, le MBA permet aux détaillants d'identifier la relation entre les articles que les clients achètent, révélant des tendances d'articles souvent achetés ensemble.\n",
        "\n",
        "Une approche largement utilisée pour explorer ces motifs consiste à construire *** des règles d'association *** telles que\n",
        "- **si** acheté *ITEM_1* **alors** achètera *ITEM_2* avec **confiance** *X*.\n",
        "\n",
        "Ces associations n'ont pas à être des règles individuelles. Ils peuvent impliquer de nombreux éléments. Par exemple, une personne dans un supermarché peut ajouter des œufs dans son panier, puis le MBA peut suggérer qu'elle achètera également du pain et/ou de la farine:\n",
        "\n",
        "+ **si**  acheté *OEUFS* **alors** achètera [*PAIN* avec confiance *0,2*; *FARINE* avec confiance 0,05].\n",
        "\n",
        "Cependant, si la personne décide maintenant d'ajouter de la farine à son panier, la nouvelle règle d'association pourrait être comme ci-dessous, suggérant des ingrédients pour faire un gâteau.\n",
        "\n",
        "+ **si** acheté [*OEUFS, FARINE*] **alors** achètera [*SUCRE* avec confiance 0,45; LEVURE avec confiance 0,12; *PAIN* avec confiance *0,03*].\n",
        "\n",
        "Il existe de nombreux scénarios réels où le MBA joue un rôle central dans l'analyse des données, comme les transactions de supermarché, les commandes en ligne ou l'historique des cartes de crédit. Les spécialistes du marketing peuvent utiliser ces règles d'association pour organiser les produits corrélés plus près les uns des autres sur les étagères des magasins ou faire des suggestions en ligne afin que les clients achètent plus d'articles. Un MBA peut généralement aider les détaillants à répondre aux questions les suivantes:\n",
        "\n",
        "- Quels articles sont souvent achetés ensemble ?\n",
        "- Étant donné un panier, quels articles suggérer ?\n",
        "- Comment placer les articles ensemble sur les étagères ?\n",
        "___\n",
        "Market Basket Analysis (MBA) is a data mining analytics technique to uncover associations between products or product grouping. By exploring interesting patterns from an extensive collection of data, MBA aims to understand/reveal customer purchase behaviors based upon the theory that if you purchased a certain set of products, then you are more (or less) likely to buy another group of products. In other words, MBA allows retailers to identify the relationship between the items that customers buy, revealing patterns of items often purchased together.\n",
        "\n",
        "A widely used approach to explore these patterns is by constructing ***association rules*** such as\n",
        "- **if** bought *ITEM_1* **then** will buy *ITEM_2* with **confidence** *X*.\n",
        "\n",
        "These associations do not have to be 1-to-1 rules. They can involve many items. For example, a person in a supermarket may add eggs to his/her cart, then an MBA application may suggest that the person will also buy some bread and/or flour: \n",
        "\n",
        "+ **if** bought *EGGS* **then** will buy [*BREAD* with confidence *0.2*; *FLOUR* with confidence 0.05].\n",
        "\n",
        "However, if the person now decides to add flour to his/her cart, the new association rule could be as showing below, suggesting ingredients to make a cake.\n",
        "\n",
        "+ **if** bought [*EGGS, FLOUR*] **then** will buy [*SUGGAR* with confidence 0.45; BAKING POWDER with confidence 0.12; *BREAD* with confidence *0.03*].\n",
        "\n",
        "There are many real scenarios where MBA plays a central role in data analysis, such as supermarket transactions, online orders or credit card history. Marketers may use these association rules to arrange correlated products closer to each other on store shelves or make online suggestions so that customers buy more items. Some questions that an MBA can usually help retailers to answer are:\n",
        "\n",
        "- What items are often purchased together?\n",
        "- Given a basket, what items should be suggested?\n",
        "- How should items be placed together on the shelves?\n",
        "\n",
        "### Objectif\n",
        "\n",
        "Votre objectif dans ce TP est de développer un algorithme MBA pour révéler les motifs en créant des règles d'association dans un ensemble de données volumineux avec plus de trois millions de transactions de supermarché. Cependant, la collecte de règles d'association dans les grands ensembles de données est un problème très intensif en calcul, ce qui rend presque impossible leur exécution sans système distribué. Par conséquent, pour exécuter votre algorithme, vous aurez accès à un cluster de *cloud computing* distribué avec des centaines de cœurs.\n",
        "\n",
        "À cette fin, un algorithme **MapReduce** sera implémenté avec le framework [Apache Spark](http://spark.apache.org), un système informatique distribué rapide. En résumé, Spark est un framework open source conçu avec une méthodologie *scale-out* qui en fait un outil très puissant pour les programmeurs ou les développeurs d'applications pour effectuer un volume massif de calculs et de traitement de données dans des environnements distribués. Spark fournit des API de haut niveau qui facilitent la création d'applications parallèles sans avoir à se soucier de la façon dont votre code et vos données sont parallélisés / distribués par le cluster informatique. Spark fait tout pour vous.\n",
        "\n",
        "La mise en œuvre suivra l'algorithme d'analyse du panier de marché présenté par Jongwook Woo et Yuhang Xu (2012). L'image **workflow.pdf** illustre le flux de travail de l'algorithme et doit être utilisée pour consultation tout au long de ce TP. Les cases bleues sont celles où vous devez implémenter une méthode pour effectuer une fonction de mappage ou de réduction, et les cases grises représentent leur sortie attendue. **Toutes ces opérations sont expliquées en détail dans les sections suivantes.**\n",
        "___\n",
        "Your goal in this TP is to develop an MBA algorithm for revealing patterns by creating association rules in a big dataset with more than three million supermarket transactions. However, mining association rules for large datasets is a very computationally intensive problem, which makes it almost impractical to perform it without a distributed system. Hence, to run your algorithm, you will have access to a distributed cloud computing cluster with hundreds of cores. \n",
        "\n",
        "To this end, a **MapReduce** algorithm will be implemented upon the [Apache Spark](http://spark.apache.org) framework, a fast cluster computing system. In a nutshell, Spark is an open source framework designed with a *scale-out* methodology which makes it a very powerful tool for programmers or application developers to perform a massive volume of computations and data processing in distributed environments. Spark provides high-level APIs that make it easy to build parallel apps without needing to worry about how your code and data are parallelized/distributed thought the computing cluster. Spark does it all for you.\n",
        "\n",
        "The implementation will follow the Market Basket Analysis algorithm presented by Jongwook Woo and Yuhang Xu (2012). The image **workflow.svg** Illustrates the algorithm's workflow, and is to be used for consultation throughout this TP. The blue boxes are the ones where you must implement a method to perform a map or reduce function, and the gray boxes represent their expected output. **All these operations are explained in detail in the following sections.**\n",
        "\n",
        "## 1. Configuration de Spark\n",
        "\n",
        "Spark fonctionne sur les systèmes Windows et UNIX (par exemple, Linux, Mac OS). Il est facile d'exécuter Spark localement sur une seule machine - tout ce dont vous avez besoin est d'avoir Java installé sur votre système PATH, ou la variable d'environnement JAVA_HOME pointant vers une installation Java. Il est obligatoire que le **JDK v8** soit installé sur votre système, car Spark ne prend actuellement en charge que cette version. Si ce n'est pas le cas, accédez à [la page Web de Java](https://www.oracle.com/technetwork/java/javase/downloads/jdk8-downloads-2133151.html) pour télécharger et installer une machine virtuelle Java. N'oubliez pas de définir la variable d'environnement JAVA_HOME pour utiliser JDK v8 si votre installation ne le fait pas automatiquement. Mise à jour 2022: Il est à noté que pour les systèmes d'exploitation de **Google Cloud, JDK v8 n'est pas disponible. Remplacer cela par la JDK 10 (default-jdk) permet également à Spark de fonctionner pour ce TP.**\n",
        "\n",
        "L'interface entre Python et Spark se fait via **PySpark**, qui peut être installé en exécutant `pip install pyspark` ou configuré en suivant la séquence ci-dessous:\n",
        "\n",
        "1. D'abord, allez sur http://spark.apache.org/downloads\n",
        "2. Sélectionnez la dernière version de Spark et le package pré-construit pour Apache Hadoop 2.7\n",
        "3. Cliquez pour télécharger **spark-2.4.5-bin-hadoop2.7.tgz** et décompressez-le dans le dossier de votre choix.\n",
        "4. Ensuite, exportez les variables suivantes pour lier PYSPARK (l'interface python de Spark) à votre distribution python dans votre fichier `~/.bash_profile`.\n",
        "\n",
        "``\n",
        "export SPARK_HOME=/chemin/ vers / spark-2.4.5-bin-hadoop2.7\n",
        "export PYTHONPATH=\"$SPARK_HOME/python:$SPARK_HOME/python/lib/py4j-0.10.7-src.zip:$SPARK_HOME/python/lib/pyspark.zip:$ PYTHONPATH\"\n",
        "export PYSPARK_PYTHON=/chemin/vers/votre/python3\n",
        "``\n",
        "\n",
        "5. Exécutez `source ~./bash_profile` pour effectuer les modifications et redémarrer cette session de notebook jupyter.\n",
        "___\n",
        "Spark runs on both Windows and UNIX-like systems (e.g., Linux, Mac OS). It's easy to run locally on one machine — all you need is to have Java installed on your system PATH, or the JAVA_HOME environment variable pointing to a Java installation. It is mandatory that you have the **JDK v8** installed in your system, as Spark currently only support this version. If you haven't, go to [Java's web page](https://www.oracle.com/technetwork/java/javase/downloads/jdk8-downloads-2133151.html) to download and install a Java Virtual Machine. Remember to set the environment variable JAVA_HOME to use JDK v8 if your installation does not do it automatically for you. **2022 update: on google cloud the operating systems does not support JDK v8. It can be replaced by the JDK v10 (default-jdk) to be able to run the TP.**\n",
        "\n",
        "The interface between Python and Spark is done through **PySpark**, which can be installed by running `pip install pyspark` or set up following the sequence below:\n",
        "\n",
        "1. First, go to http://spark.apache.org/downloads \n",
        "2. Select the newest Spark release and the Pre-built for Apache Hadoop 2.7 package \n",
        "3. Click for download **spark-2.4.5-bin-hadoop2.7.tgz** and unzip it in any folder of your preference. \n",
        "4. Next, export the following variables to link PYSPARK (Spark's python interface) to your python distribution in your `~/.bash_profile` file.\n",
        "\n",
        "``\n",
        "export SPARK_HOME=/path/to/spark-2.4.5-bin-hadoop2.7\n",
        "export PYTHONPATH=\"$SPARK_HOME/python:$SPARK_HOME/python/lib/py4j-0.10.7-src.zip:$SPARK_HOME/python/lib/pyspark.zip:$PYTHONPATH\"\n",
        "export PYSPARK_PYTHON=/path/to/your/python3\n",
        "``\n",
        "\n",
        "5. Run `source ~./bash_profile` to effectuate the changes and restart this jupyter notebook session.\n",
        "\n",
        "#### Alternative for using Google Collab\n",
        "\n",
        "Si vous pensez utiliser Google Colaboratory, exécutez la cellule de code suivante pour installer Spark\n",
        "___\n",
        "If you are planning on using Google Colaboratory platform, run the following code cell to set up Spark."
      ]
    },
    {
      "cell_type": "code",
      "execution_count": null,
      "metadata": {
        "colab": {
          "base_uri": "https://localhost:8080/"
        },
        "id": "JmUMt4htMazm",
        "outputId": "d1667e21-6773-4868-e129-a64e93565b46"
      },
      "outputs": [],
      "source": [
        "# import os\n",
        "# # !apt-get install openjdk-8-jdk-headless -qq > /dev/null\n",
        "# !pip install pyspark\n",
        "# os.environ[\"PYSPARK_PYTHON\"] = \"python\"\n",
        "\n",
        "# Note 2022: on google cloud openjdk-8 might not be available: replace the previous lines with the following lines\n",
        "# import os\n",
        "# !apt install -y default-jdk\n",
        "# os.environ[\"JAVA_HOME\"] = \"/usr/lib/jvm/java-11-openjdk-amd64\"\n",
        "# !pip install pyspark"
      ]
    },
    {
      "cell_type": "markdown",
      "metadata": {
        "id": "rovSCW_vYs7m"
      },
      "source": [
        "#### Testez votre Spark / Test your Spark\n",
        "À l'aide du code suivant, vous pouvez tester si Spark est installé correctement.\n",
        "___\n",
        "Using the following code, you can test if Spark is installed correctly:"
      ]
    },
    {
      "cell_type": "code",
      "execution_count": 2,
      "metadata": {
        "colab": {
          "base_uri": "https://localhost:8080/"
        },
        "id": "UxgNiBFkYs7n",
        "outputId": "0d4542ea-3b14-460f-9cb3-9d4409999d0d"
      },
      "outputs": [
        {
          "name": "stdout",
          "output_type": "stream",
          "text": [
            "+-----+\n",
            "|hello|\n",
            "+-----+\n",
            "|spark|\n",
            "+-----+\n",
            "\n"
          ]
        }
      ],
      "source": [
        "import pyspark\n",
        "from pyspark.sql import SparkSession\n",
        "spark = SparkSession.builder.getOrCreate()\n",
        "df = spark.sql(\"select 'spark' as hello \")\n",
        "df.show()"
      ]
    },
    {
      "cell_type": "markdown",
      "metadata": {
        "id": "QaYpUpOFMazu"
      },
      "source": [
        "### 1.1 Exemple de comptage de produits / Products Counting Example \n",
        "\n",
        "Pour tester votre installation et commencer à vous familiariser avec Spark, nous suivrons un exemple qui compte combien de fois les produits d'un toy dataset ont été achetés.\n",
        "\n",
        "Le principal point d'entrée pour commencer la programmation avec Spark est [l'API RDD](https://spark.apache.org/docs/latest/rdd-programming-guide.html), une excellente abstraction Spark pour travailler avec MapReduce. RDD est une collection d'éléments partitionnés sur les nœuds du cluster qui peuvent fonctionner en parallèle. En d'autres termes, RDD est la façon dont Spark maintient vos données prêtes à exécuter une fonction (par exemple, une fonction Map ou une fonction reduce) en parallèle. **Ne vous inquiétez pas si cela semble toujours déroutant, il sera clair une fois que vous commencerez à l'implémenter**. Cependant, cela fait partie de ce TP d'étudier / consulter [Spark python API](https://spark.apache.org/docs/latest/api/python/) et d'apprendre à l'utiliser. Certaines fonctions utiles offertes par l'API RDD sont:\n",
        "___\n",
        "To test your installation and start to get familiarized with Spark, we will follow an example that counts how many times the products of a toy dataset were purchased.\n",
        "\n",
        "The main entry point to start programming with Spark is the [RDD API](https://spark.apache.org/docs/latest/rdd-programming-guide.html), an excellent Spark abstraction to work with the MapReduce framework.  RDD is a collection of elements partitioned across the nodes of the cluster that can operate in parallel. In other words, RDD is how Spark keeps your data ready to perform some function (e.g., a map or reduce function) in parallel. **Do not worry if this still sounds confusing, it will be clear once you start implementing**. However, it is part of this TP to study/consult the [Spark python API](https://spark.apache.org/docs/latest/api/python/) and learn how to use it. Some useful functions that the RDD API offers are:\n",
        "\n",
        "1. **map**: return a new RDD by applying a function to each element of this RDD.\n",
        "2. **flatMap**: return a new RDD by first applying a function to all elements of this RDD, and then flattening the results. **Should be used when each entry will yield more than one mapped element**\n",
        "3. **reduce**: reduces the elements of this RDD using the specified commutative and associative binary operator.\n",
        "4. **reduceByKey**: merge the values for each key using an associative and commutative reduce function\n",
        "5. **groupByKey**: group the values for each key in the RDD into a single sequence\n",
        "6. **collect**: return a list that contains all of the elements in this RDD. **Should not be used when working with a lot of data**\n",
        "7. **takeSample**: return a sampled subset of this RDD\n",
        "8. **count**: return the number of elements in this RDD.\n",
        "9. **filter**: return a new RDD containing only the elements that satisfy a predicate."
      ]
    },
    {
      "cell_type": "code",
      "execution_count": 3,
      "metadata": {
        "colab": {
          "base_uri": "https://localhost:8080/"
        },
        "id": "NZDz1nrBMazu",
        "outputId": "135c2a3e-b642-421f-ea3a-2065cc5ad9e4"
      },
      "outputs": [
        {
          "name": "stdout",
          "output_type": "stream",
          "text": [
            "Toy dataset\n",
            "+--------+-----------+\n",
            "|order_id|transaction|\n",
            "+--------+-----------+\n",
            "|       1|    a;b;c;f|\n",
            "|       2|    d;b;a;e|\n",
            "|       3|        c;b|\n",
            "|       4|        b;c|\n",
            "+--------+-----------+\n",
            "\n",
            "Toy dataframe as a RDD object (list of Row objects):\n",
            "\t [Row(order_id='1', transaction='a;b;c;f'), Row(order_id='2', transaction='d;b;a;e'), Row(order_id='3', transaction='c;b'), Row(order_id='4', transaction='b;c')]\n",
            "\n",
            "Mapped products:\n",
            "\t [('a', 1), ('b', 1), ('c', 1), ('f', 1), ('d', 1), ('b', 1), ('a', 1), ('e', 1), ('c', 1), ('b', 1), ('b', 1), ('c', 1)]\n",
            "\n",
            "Reduced (merged) products:\n",
            "\t [('a', 2), ('b', 4), ('c', 3), ('f', 1), ('d', 1), ('e', 1)]\n",
            "\n",
            "Visualizing as a dataframe:\n",
            "+-------+-------------+\n",
            "|product|count_product|\n",
            "+-------+-------------+\n",
            "|      a|            2|\n",
            "|      b|            4|\n",
            "|      c|            3|\n",
            "|      f|            1|\n",
            "|      d|            1|\n",
            "|      e|            1|\n",
            "+-------+-------------+\n",
            "\n"
          ]
        }
      ],
      "source": [
        "from pyspark.sql import SparkSession\n",
        "\n",
        "def map_to_product(row):\n",
        "    \"\"\"\n",
        "    Map each transaction into a set of KEY-VALUE elements.\n",
        "    The KEY is the word (product) itself and the VALUE is its number of apparitions.\n",
        "    \"\"\"\n",
        "    products = row.transaction.split(';') # split products from the column transaction\n",
        "    for p in products:\n",
        "        yield (p, 1)\n",
        "\n",
        "def reduce_product_by_key(value1, value2):\n",
        "    \"Reduce the mapped objects to unique words by merging (summing ) their values\"\n",
        "    return value1+value2\n",
        "\n",
        "# Initializates a object of SparkSession class, main entry point to Spark's funcionalites\n",
        "spark = SparkSession.builder.getOrCreate()\n",
        "\n",
        "# Read a toy dataset\n",
        "# toy = spark.read.csv('gs://my_bucket_tp_nawras/notebooks/jupyter/data/toy.csv', header=True)\n",
        "toy = spark.read.csv('data/toy.csv', header=True)\n",
        "print(\"Toy dataset\")\n",
        "toy.show()\n",
        "\n",
        "# Obtain a RDD object to call a map function\n",
        "toy_rdd = toy.rdd\n",
        "print(\"Toy dataframe as a RDD object (list of Row objects):\\n\\t\", toy_rdd.collect())\n",
        "\n",
        "# Map function to identify all products\n",
        "toy_rdd = toy_rdd.flatMap(map_to_product)\n",
        "print(\"\\nMapped products:\\n\\t\", toy_rdd.collect())\n",
        "\n",
        "# Reduce function to merge values of elements that share the same KEY\n",
        "toy_rdd = toy_rdd.reduceByKey(reduce_product_by_key)\n",
        "print(\"\\nReduced (merged) products:\\n\\t\", toy_rdd.collect())\n",
        "\n",
        "print(\"\\nVisualizing as a dataframe:\")\n",
        "toy_rdd.toDF([\"product\", \"count_product\"]).show()"
      ]
    },
    {
      "cell_type": "markdown",
      "metadata": {
        "id": "PpJGQmzXMazz"
      },
      "source": [
        "### 1.2 Travailler avec Spark Dataframe / Working with Spark Dataframes\n",
        "\n",
        "Dans l'exemple ci-dessus, nous avons brièvement utilisé une classe Dataframe de Spark, mais uniquement pour obtenir un objet RDD avec ``toy.rdd`` et pour aficher les données sous forme de tableau structuré avec le ``show ()`` une fonction. Cependant, [Dataframe](http://spark.apache.org/docs/latest/api/python/) est une partie cruciale de la version actuelle de Spark et est construit sur l'API RDD. Il s'agit d'une collection distribuée de lignes sous des colonnes nommées, identique à une table dans une base de données relationnelle. Le Dataframe de Spark fonctionne de la même manière que [Pandas](https://pandas.pydata.org/pandas-docs/stable/reference/api/pandas.DataFrame.html). En fait, nous pouvons exporter (obtenir) une Dataframe Spark vers (à partir de) ​​une Dataframe pandas avec la fonction ``toPandas()``  (``spark.createDataFrame``).\n",
        "\n",
        "Une fonctionnalité centrale du Dataframe est de bénéficier du [Spark SQL](https://spark.apache.org/docs/latest/sql-programming-guide.html#sql), un module qui permet des requêtes SQL sur des données structurées. Par exemple, le même « exemple de comptage de produits » aurait pu être implémenté comme une séquence d'opérations SQL sur les données:\n",
        "___\n",
        "\n",
        "In the example above, we briefly used a Spark's Dataframe class, but only to obtain an RDD object with ```toy.rdd``` and to print the data as a structured table with the ```show()``` function. However, [Dataframe](http://spark.apache.org/docs/latest/api/python/) is a crucial part of the current Spark release and is built upon the RDD API. It is a distributed collection of rows under named columns, the same as a table in a relational database. Spark's Dataframe works similarly as [Pandas'](https://pandas.pydata.org/pandas-docs/stable/reference/api/pandas.DataFrame.html). In fact, we can export (obtain) a Spark's dataframe to (from) a pandas' data frame with the function ```toPandas()``` (```spark.createDataFrame```).\n",
        "\n",
        "A central functionality of the data frame is to profit from the [Spark SQL](https://spark.apache.org/docs/latest/sql-programming-guide.html#sql), a module that allows SQL queries over structured data. For example, the same 'product counting example' could have been implemented as a sequence of SQL operations over the data:  "
      ]
    },
    {
      "cell_type": "code",
      "execution_count": 4,
      "metadata": {
        "colab": {
          "base_uri": "https://localhost:8080/"
        },
        "id": "oFL6BuIDMaz0",
        "outputId": "dfa5605c-5797-44e8-a6d4-0f7cd63d2ec5"
      },
      "outputs": [
        {
          "name": "stdout",
          "output_type": "stream",
          "text": [
            "New column 'products': exploding the transaction's products to a new row\n",
            "+--------+-----------+--------+\n",
            "|order_id|transaction|products|\n",
            "+--------+-----------+--------+\n",
            "|       1|    a;b;c;f|       a|\n",
            "|       1|    a;b;c;f|       b|\n",
            "|       1|    a;b;c;f|       c|\n",
            "|       1|    a;b;c;f|       f|\n",
            "|       2|    d;b;a;e|       d|\n",
            "|       2|    d;b;a;e|       b|\n",
            "|       2|    d;b;a;e|       a|\n",
            "|       2|    d;b;a;e|       e|\n",
            "|       3|        c;b|       c|\n",
            "|       3|        c;b|       b|\n",
            "|       4|        b;c|       b|\n",
            "|       4|        b;c|       c|\n",
            "+--------+-----------+--------+\n",
            "\n",
            "Couting unique products:\n",
            "+--------+-------------+\n",
            "|products|count_product|\n",
            "+--------+-------------+\n",
            "|       b|            4|\n",
            "|       c|            3|\n",
            "|       a|            2|\n",
            "|       f|            1|\n",
            "|       e|            1|\n",
            "|       d|            1|\n",
            "+--------+-------------+\n",
            "\n"
          ]
        }
      ],
      "source": [
        "import pyspark.sql.functions as f\n",
        "\n",
        "# Creates a new column, products, with all products appering in each transaction\n",
        "print('New column \\'products\\': exploding the transaction\\'s products to a new row')\n",
        "df_toy = toy.withColumn('products', f.explode(f.split(toy.transaction, ';')))\n",
        "df_toy.show()\n",
        "\n",
        "# Performs a select query and group rows by the product name, aggreagating by counting\n",
        "print('Couting unique products:')\n",
        "df_toy.select(df_toy.products)\\\n",
        "      .groupBy(df_toy.products)\\\n",
        "      .agg(f.count('products').alias('count_product'))\\\n",
        "      .sort('count_product', ascending=False)\\\n",
        "      .show()"
      ]
    },
    {
      "cell_type": "markdown",
      "metadata": {
        "id": "W4HFs8CVMaz3"
      },
      "source": [
        "En outre, les mêmes opérations SQL effectuées ci-dessus auraient pu être effectuées avec une requête en langage SQL traditionnel comme indiqué ci-dessous:\n",
        "___\n",
        "Also, the same SQL operations performed above could have been done with a traditional SQL language query as showing below:"
      ]
    },
    {
      "cell_type": "code",
      "execution_count": 5,
      "metadata": {
        "colab": {
          "base_uri": "https://localhost:8080/"
        },
        "id": "O_eYl-7tMaz3",
        "outputId": "b21d570e-6047-40f0-8222-0024d4c13705"
      },
      "outputs": [
        {
          "name": "stdout",
          "output_type": "stream",
          "text": [
            "+--------+-------------+\n",
            "|products|product_count|\n",
            "+--------+-------------+\n",
            "|       b|            4|\n",
            "|       c|            3|\n",
            "|       a|            2|\n",
            "|       f|            1|\n",
            "|       e|            1|\n",
            "|       d|            1|\n",
            "+--------+-------------+\n",
            "\n"
          ]
        }
      ],
      "source": [
        "# Creates a relational table TOY in the Spark session\n",
        "df_toy.createOrReplaceTempView(\"TOY\")\n",
        "\n",
        "spark.sql(\"SELECT t.products, COUNT(t.products) AS product_count\"\n",
        "          \" FROM TOY t\"\n",
        "          \" GROUP BY t.products\"\n",
        "          \" ORDER BY product_count DESC\").show()"
      ]
    },
    {
      "cell_type": "markdown",
      "metadata": {
        "id": "MTMT2RlqQBj9"
      },
      "source": [
        "Ces concepts SQL sont mentionnés ici car ils nous seront utiles lors du TP, principalement dans la section 3, pour manipuler les données du supermarché, qui sont structurées en tableaux. Ainsi, si vous n'êtes pas familier avec SQL, il est recommandé de suivre un [tutoriel](https://www.w3schools.com/sql/) pour comprendre les bases.\n",
        "___\n",
        "These SQL concepts are being mentioned here because they will be useful to us during the TP, mainly in Section 3, to manipulate the supermarket data, which is structured in tables. Thus, if you are not familiar with SQL, it is recommended that you follow a [tutorial](https://www.w3schools.com/sql/) to understand the basics."
      ]
    },
    {
      "cell_type": "markdown",
      "metadata": {
        "id": "s1oZzC-ZQEE0"
      },
      "source": [
        "\n",
        "\n",
        "## 2. Algorithme MBA (45 points)\n",
        "Les sections suivantes expliquent comment développer chaque étape de l'algorithme MapReduce pour notre application de supermarché. La figure workflow.pdf illustre chaque étape de l'algorithme.\n",
        "___\n",
        "The following sections explain how you should develop each step of the MapReduce algorithm for our supermarket application. Figure workflow.png illustrates each step of the algorithm."
      ]
    },
    {
      "cell_type": "markdown",
      "metadata": {
        "id": "T0Onr2NxMaz8"
      },
      "source": [
        "\n",
        "\n",
        "### 2.1 Map to Patterns / Map to Patterns (10 points)\n",
        "Pour un sous-ensemble de transactions (c'est-à-dire les lignes de notre toy dataset), chaque transaction doit être **mappée** vers un ensemble de *motifs d'achat* trouvés dans la transaction. Formellement, ces motifs sont des sous-ensembles de produits qui représentent un groupe d'articles achetés ensemble. \n",
        "\n",
        "Pour le framework MapReduce, chaque motif doit être créé comme un élément *KEY-VALUE*, où la KEY peut prendre la forme d'un singleton, d'une paire ou d'un trio de produits présents dans la transaction. Plus précisément, pour chaque transaction, la fonction de mappage doit générer tous les sous-ensembles **UNIQUE** possibles de taille **UN, DEUX ou TROIS**. La VALEUR associée à chaque KEY est le nombre de fois que la KEY est apparue dans la transaction (si nous supposons qu'aucun produit n'apparaît plus d'une fois dans la transaction, cette valeur est toujours égale à un).\n",
        "\n",
        "Maintenant, implémentez la fonction **map_to_patterns** qui reçoit une transaction (une ligne du dataset) et retourne les motifs trouvés dans la transaction. Les éléments mappés sont un tuple (KEY, VALUE), où KEY est également un tuple de noms de produits. Il est crucial de noter que, puisque chaque entrée (transaction) de la fonction MAP produira **plus** un élément KEY-VALUE, un *flatMap* doit être invoqué pour cette étape.\n",
        "\n",
        "Pour le toy dataset, la sortie attendue est similaire à:\n",
        "___\n",
        "For a given set of transactions (i.e., the rows of our toy dataset), each transaction must be **mapped** into a set of *purchase patterns* found within the transaction. Formally, these patterns are subsets of products that represent a group of items bought together. \n",
        "\n",
        "For the MapReduce framework, each pattern must be created as a *KEY-VALUE* element, where the KEY can take the form of a singleton, a pair or a trio of products that are present in the transaction. More precisely, for each transaction, the mapping function must generate all possible **UNIQUE** subsets of size **ONE, TWO or THREE**.  The VALUE associated with each KEY is the number of times that the KEY appeared in the transaction (if we assume that no product appears more than once in the transaction, this value is always equal to one). \n",
        "\n",
        "Now, implement the **map_to_patterns** function that receives a transaction (a row from the data frame) and returns the patterns found in the transaction. The mapped elements are a tuple (KEY, VALUE), where KEY is also a tuple of product names. It is crucial to notice that, since each entry (transaction) of the map function will **yield** more than one KEY-VALUE element, a *flatMap* must be invoked for this step.\n",
        "\n",
        "For the toy dataset, the expected output is similar to:\n",
        "\n",
        "\n",
        "\n",
        "<pre style=\"align:center; border:1px solid black;font-size: 8pt; line-height: 1.1; height: auto; width: 20em; padding-left:1px\">\n",
        "<code>\n",
        "+---------------+-----------+\n",
        "|       patterns|occurrences|\n",
        "+---------------+-----------+\n",
        "|         ('a',)|          1|\n",
        "|     ('a', 'b')|          1|\n",
        "|('a', 'b', 'c')|          1|\n",
        "|('a', 'b', 'f')|          1|\n",
        "|     ('a', 'c')|          1|\n",
        "|('a', 'c', 'f')|          1|\n",
        "|     ('a', 'f')|          1|\n",
        "|         ('b',)|          1|\n",
        "|     ('b', 'c')|          1|\n",
        "|('b', 'c', 'f')|          1|\n",
        "|     ('b', 'f')|          1|\n",
        "|         ('c',)|          1|\n",
        "|     ('c', 'f')|          1|\n",
        "|         ('f',)|          1|\n",
        "|         ('a',)|          1|\n",
        "|     ('a', 'b')|          1|\n",
        "|('a', 'b', 'd')|          1|\n",
        "|('a', 'b', 'e')|          1|\n",
        "|     ('a', 'd')|          1|\n",
        "|('a', 'd', 'e')|          1|\n",
        "|     ('a', 'e')|          1|\n",
        "|         ('b',)|          1|\n",
        "|     ('b', 'd')|          1|\n",
        "|('b', 'd', 'e')|          1|\n",
        "|     ('b', 'e')|          1|\n",
        "|         ('d',)|          1|\n",
        "|     ('d', 'e')|          1|\n",
        "|         ('e',)|          1|\n",
        "|         ('b',)|          1|\n",
        "|     ('b', 'c')|          1|\n",
        "|         ('c',)|          1|\n",
        "|         ('b',)|          1|\n",
        "|     ('b', 'c')|          1|\n",
        "|         ('c',)|          1|\n",
        "+---------------+-----------+\n",
        "</code>\n",
        "</pre>"
      ]
    },
    {
      "cell_type": "code",
      "execution_count": 6,
      "metadata": {
        "colab": {
          "base_uri": "https://localhost:8080/"
        },
        "id": "BscKKDAjMaz9",
        "outputId": "947af265-c9b6-474c-c580-1caae8821a25"
      },
      "outputs": [
        {
          "name": "stdout",
          "output_type": "stream",
          "text": [
            "+---------------+-----------+\n",
            "|       patterns|occurrences|\n",
            "+---------------+-----------+\n",
            "|         ('a',)|          1|\n",
            "|         ('b',)|          1|\n",
            "|         ('c',)|          1|\n",
            "|         ('f',)|          1|\n",
            "|     ('a', 'b')|          1|\n",
            "|     ('a', 'c')|          1|\n",
            "|     ('a', 'f')|          1|\n",
            "|     ('b', 'c')|          1|\n",
            "|     ('b', 'f')|          1|\n",
            "|     ('c', 'f')|          1|\n",
            "|('a', 'b', 'c')|          1|\n",
            "|('a', 'b', 'f')|          1|\n",
            "|('a', 'c', 'f')|          1|\n",
            "|('b', 'c', 'f')|          1|\n",
            "|         ('a',)|          1|\n",
            "|         ('b',)|          1|\n",
            "|         ('d',)|          1|\n",
            "|         ('e',)|          1|\n",
            "|     ('a', 'b')|          1|\n",
            "|     ('a', 'd')|          1|\n",
            "|     ('a', 'e')|          1|\n",
            "|     ('b', 'd')|          1|\n",
            "|     ('b', 'e')|          1|\n",
            "|     ('d', 'e')|          1|\n",
            "|('a', 'b', 'd')|          1|\n",
            "|('a', 'b', 'e')|          1|\n",
            "|('a', 'd', 'e')|          1|\n",
            "|('b', 'd', 'e')|          1|\n",
            "|         ('b',)|          1|\n",
            "|         ('c',)|          1|\n",
            "|     ('b', 'c')|          1|\n",
            "|         ('b',)|          1|\n",
            "|         ('c',)|          1|\n",
            "|     ('b', 'c')|          1|\n",
            "+---------------+-----------+\n",
            "\n"
          ]
        }
      ],
      "source": [
        "import itertools\n",
        "\n",
        "def format_tuples(pattern):\n",
        "    \"\"\"\n",
        "    Used for visualizition.\n",
        "    Transforms tuples to a string since Dataframe does not support column of tuples with different sizes\n",
        "    (a,b,c) -> '(a,b,c)'\n",
        "    \"\"\"\n",
        "    return (str(pattern[0]), str(pattern[1]))\n",
        "\n",
        "def map_to_patterns(row):\n",
        "    \"\"\"\n",
        "    TODO DONE\n",
        "    \"\"\"\n",
        "    products = sorted(row.transaction.split(\";\"))\n",
        "    for l in range(1, 4):\n",
        "        for subset in itertools.combinations(products, l):\n",
        "            yield(subset, 1)\n",
        "    \n",
        "\n",
        "toy_rdd = toy.rdd\n",
        "\n",
        "patterns_rdd = toy_rdd.flatMap(map_to_patterns)\n",
        "# Output as dataframe\n",
        "patterns_rdd.map(format_tuples).toDF(['patterns', 'occurrences']).show(50)"
      ]
    },
    {
      "cell_type": "markdown",
      "metadata": {
        "id": "YvvRw0plMa0B"
      },
      "source": [
        "### 2.2  Reduce patterns  (2,5 points)\n",
        "Une fois que différents processeurs ont traité les transactions, une fonction **reduce** doit être appelée pour combiner des KEYS identiques (le sous-ensemble de produits) et calculer le nombre total de ses occurrences dans le dataset. En d'autres termes, cette procédure de réduction doit additionner la *VALUE* de chaque KEY identique.\n",
        "\n",
        "Créez ci-dessous une fonction **reduce_patterns** qui doit additionner la VALUE de chaque motif.\n",
        "Pour le toy dataset, la sortie attendue est:\n",
        "___\n",
        "Once different CPUs processed the transactions, a **reduce** function must take place to combine identical KEYS (the subset of products) and compute the total number of its occurrences in the entire dataset. In other words, this reduce procedure must sum the *VALUE* of each identical KEY.\n",
        "\n",
        "Create a **reduce_patterns** function below that must sum the VALUE of each pattern.\n",
        "For the toy dataset, the expected output is:\n",
        "\n",
        "<pre style=\"align:center; border:1px solid black;font-size: 8pt; line-height: 1.1; height: auto; width: 28em; padding-left:5px\">\n",
        "<code>\n",
        "+---------------+--------------------+\n",
        "|       patterns|combined_occurrences|\n",
        "+---------------+--------------------+\n",
        "|         ('a',)|                   2|\n",
        "|     ('a', 'b')|                   2|\n",
        "|('a', 'b', 'c')|                   1|\n",
        "|('a', 'b', 'f')|                   1|\n",
        "|     ('a', 'c')|                   1|\n",
        "|('a', 'c', 'f')|                   1|\n",
        "|     ('a', 'f')|                   1|\n",
        "|         ('b',)|                   4|\n",
        "|     ('b', 'c')|                   3|\n",
        "|('b', 'c', 'f')|                   1|\n",
        "|     ('b', 'f')|                   1|\n",
        "|         ('c',)|                   3|\n",
        "|     ('c', 'f')|                   1|\n",
        "|         ('f',)|                   1|\n",
        "|('a', 'b', 'd')|                   1|\n",
        "|('a', 'b', 'e')|                   1|\n",
        "|     ('a', 'd')|                   1|\n",
        "|('a', 'd', 'e')|                   1|\n",
        "|     ('a', 'e')|                   1|\n",
        "|     ('b', 'd')|                   1|\n",
        "|('b', 'd', 'e')|                   1|\n",
        "|     ('b', 'e')|                   1|\n",
        "|         ('d',)|                   1|\n",
        "|     ('d', 'e')|                   1|\n",
        "|         ('e',)|                   1|\n",
        "+---------------+--------------------+\n",
        "</code>\n",
        "</pre>\n"
      ]
    },
    {
      "cell_type": "code",
      "execution_count": 7,
      "metadata": {
        "colab": {
          "base_uri": "https://localhost:8080/"
        },
        "id": "67IKY_4MMa0C",
        "outputId": "69aedf55-3f5e-49be-8329-568e4472c275"
      },
      "outputs": [
        {
          "name": "stdout",
          "output_type": "stream",
          "text": [
            "+---------------+--------------------+\n",
            "|       patterns|combined_occurrences|\n",
            "+---------------+--------------------+\n",
            "|         ('a',)|                   2|\n",
            "|         ('b',)|                   4|\n",
            "|         ('c',)|                   3|\n",
            "|         ('f',)|                   1|\n",
            "|     ('a', 'b')|                   2|\n",
            "|     ('a', 'c')|                   1|\n",
            "|     ('a', 'f')|                   1|\n",
            "|     ('b', 'c')|                   3|\n",
            "|     ('b', 'f')|                   1|\n",
            "|     ('c', 'f')|                   1|\n",
            "|('a', 'b', 'c')|                   1|\n",
            "|('a', 'b', 'f')|                   1|\n",
            "|('a', 'c', 'f')|                   1|\n",
            "|('b', 'c', 'f')|                   1|\n",
            "|         ('d',)|                   1|\n",
            "|         ('e',)|                   1|\n",
            "|     ('a', 'd')|                   1|\n",
            "|     ('a', 'e')|                   1|\n",
            "|     ('b', 'd')|                   1|\n",
            "|     ('b', 'e')|                   1|\n",
            "+---------------+--------------------+\n",
            "only showing top 20 rows\n",
            "\n"
          ]
        }
      ],
      "source": [
        "def reduce_patterns(value1, value2):\n",
        "  \"\"\"\n",
        "  TODO\n",
        "  \"\"\"\n",
        "  return value1 + value2\n",
        "\n",
        "combined_patterns_rdd = patterns_rdd.reduceByKey(reduce_patterns) # TODO\n",
        "\n",
        "# Output as dataframe\n",
        "combined_patterns_rdd.map(format_tuples).toDF(['patterns', 'combined_occurrences']).show()"
      ]
    },
    {
      "cell_type": "markdown",
      "metadata": {
        "id": "6BME1VugMa0F"
      },
      "source": [
        "### 2.3 Map to subpatterns (15 points)\n",
        "Ensuite, une autre fonction **map** doit être appliquée pour générer des sous-motifs. Encore une fois, les sous-motifs sont des éléments KEY-VALUE, où la KEY est également un sous-ensemble de produits. Cependant, la création de la KEY du sous-motif est une procédure différente. Cette fois, l'idée est de décomposer la liste des produits de chaque motif (KEY), de supprimer un produit à la fois et de produire la liste résultante en tant que nouvelle clé de sous-motif.\n",
        "\n",
        "Par exemple, pour un modèle donné $P$ avec trois produits, $p_1, p_2$ et $p_3$, trois nouvelles clés de sous-motifs vont être créées: (i) supprimer $p_1$ et retourner ($p_2, p_3$) ; (ii) supprimer $p_2$ et retourner ($p_1, p_3$); et (iii) supprimer $p_3$ et retourner ($p_1, p_2$).\n",
        "\n",
        "De plus, la structure VALUE du sous-motif sera également différente. Au lieu d'une seule valeur entière unique comme nous l'avons eu dans les motifs, cette fois un *tuple* devrait être créé pour le sous-motif VALUE. Ce tuple contient le produit qui a été retiré lors de la remise de la KEY et le nombre de fois que le motif est apparu. Par exemple ci-dessus, les valeurs doivent être ($p_1,v$), ($p_2,v$) et ($p_3,v $), respectivement, où $v$ est la VALEUR du motif.\n",
        "\n",
        "L'idée derrière les sous-motif est de créer **des règles** telles que : lorsque les produits de KEY ont été achetés, l'article présent dans la VALEUR a également été acheté *v* fois. En outre, chaque motif doit également produire un sous-motif dans lequel la clé est la même liste de produits du motif, mais la valeur est un tuple avec un produit nul (None) et le nombre de fois que le motif est apparu. Cet élément sera utile pour garder une trace du nombre de fois où un tel motif a été trouvé et sera utilisé ultérieurement pour calculer la valeur de confiance lors de la génération des règles d'association.\n",
        "\n",
        "Maintenant, implémentez la fonction **map_to_subpatterns** qui reçoit un motif et produit tous les sous-motif trouvés. Encore une fois, chaque entrée (motif) générera plus d'un élément KEY-VALUE, puis une fonction flatMap doit être appelée.\n",
        "\n",
        "Pour le toy dataset, la sortie attendue est:\n",
        "___\n",
        "Next, another **map** function should be applied to generate subpatterns. Once again, the subpatterns are KEY-VALUE elements, where the KEY is a subset of products as well. However, creating the subpattern's KEY is a different procedure. This time, the idea is to break down the list of products of each pattern (pattern KEY), remove one product at a time, and yield the resulting list as the new subpattern KEY. \n",
        "\n",
        "For example, for a given pattern $P$ with three products, $p_1, p_2 $ and $p_3$, three new subpatterns KEYs are going to be created: (i) remove $p_1$ and yield ($p_2, p_3$); (ii) remove $p_2$ and yield ($p_1,p_3$); and (iii) remove $p_3$ and yield ($p_1,p_2$). \n",
        "\n",
        "Additionally, the subpattern's VALUE structure will also be different. Instead of just single integer value as we had in the patterns, this time a *tuple* should be created for the subpattern VALUE. This tuple contains the product that was removed when yielding the KEY and the number of times the pattern appeared. For example above, the values should be ($p_1,v$), ($p_2,v$) and ($p_3,v$), respectively, where $v$ is the VALUE of the pattern. \n",
        "\n",
        "The idea behind subpatterns is to create **rules** such as: when the products of KEY were bought, the item present in the VALUE was also bought *v* times. Furthermore, each pattern should also yield a subpattern where the KEY is the same list of products of the pattern, but the VALUE is a tuple with a null product (None) and the number of times the pattern appeared. This element will be useful to keep track of how many times such a pattern was found and later will be used to compute the confidence value when generating the association rules. \n",
        "\n",
        "Now, implement the  **map_to_subpatterns** function that receives a pattern and yields all found subpatterns. Once again, each entry (pattern) will generate more than one KEY-VALUE element, then a flatMap function must be called.\n",
        "\n",
        "For the toy dataset, the expected output is:\n",
        "\n",
        "<pre style=\"align:center; border:1px solid black;font-size: 8pt; line-height: 1.1; height: auto; width: 20em; padding-left:5px\">\n",
        "<code>\n",
        "+---------------+---------+\n",
        "|    subpatterns|    rules|\n",
        "+---------------+---------+\n",
        "|         ('a',)|(None, 2)|\n",
        "|     ('a', 'b')|(None, 2)|\n",
        "|         ('b',)| ('a', 2)|\n",
        "|         ('a',)| ('b', 2)|\n",
        "|('a', 'b', 'c')|(None, 1)|\n",
        "|     ('b', 'c')| ('a', 1)|\n",
        "|     ('a', 'c')| ('b', 1)|\n",
        "|     ('a', 'b')| ('c', 1)|\n",
        "|('a', 'b', 'f')|(None, 1)|\n",
        "|     ('b', 'f')| ('a', 1)|\n",
        "|     ('a', 'f')| ('b', 1)|\n",
        "|     ('a', 'b')| ('f', 1)|\n",
        "|     ('a', 'c')|(None, 1)|\n",
        "|         ('c',)| ('a', 1)|\n",
        "|         ('a',)| ('c', 1)|\n",
        "|('a', 'c', 'f')|(None, 1)|\n",
        "|     ('c', 'f')| ('a', 1)|\n",
        "|     ('a', 'f')| ('c', 1)|\n",
        "|     ('a', 'c')| ('f', 1)|\n",
        "|     ('a', 'f')|(None, 1)|\n",
        "|         ('f',)| ('a', 1)|\n",
        "|         ('a',)| ('f', 1)|\n",
        "|         ('b',)|(None, 4)|\n",
        "|     ('b', 'c')|(None, 3)|\n",
        "|         ('c',)| ('b', 3)|\n",
        "|         ('b',)| ('c', 3)|\n",
        "|('b', 'c', 'f')|(None, 1)|\n",
        "|     ('c', 'f')| ('b', 1)|\n",
        "|     ('b', 'f')| ('c', 1)|\n",
        "|     ('b', 'c')| ('f', 1)|\n",
        "|     ('b', 'f')|(None, 1)|\n",
        "|         ('f',)| ('b', 1)|\n",
        "|         ('b',)| ('f', 1)|\n",
        "|         ('c',)|(None, 3)|\n",
        "|     ('c', 'f')|(None, 1)|\n",
        "|         ('f',)| ('c', 1)|\n",
        "|         ('c',)| ('f', 1)|\n",
        "|         ('f',)|(None, 1)|\n",
        "|('a', 'b', 'd')|(None, 1)|\n",
        "|     ('b', 'd')| ('a', 1)|\n",
        "|     ('a', 'd')| ('b', 1)|\n",
        "|     ('a', 'b')| ('d', 1)|\n",
        "|('a', 'b', 'e')|(None, 1)|\n",
        "|     ('b', 'e')| ('a', 1)|\n",
        "|     ('a', 'e')| ('b', 1)|\n",
        "|     ('a', 'b')| ('e', 1)|\n",
        "|     ('a', 'd')|(None, 1)|\n",
        "|         ('d',)| ('a', 1)|\n",
        "|         ('a',)| ('d', 1)|\n",
        "|('a', 'd', 'e')|(None, 1)|\n",
        "|     ('d', 'e')| ('a', 1)|\n",
        "|     ('a', 'e')| ('d', 1)|\n",
        "|     ('a', 'd')| ('e', 1)|\n",
        "|     ('a', 'e')|(None, 1)|\n",
        "|         ('e',)| ('a', 1)|\n",
        "|         ('a',)| ('e', 1)|\n",
        "|     ('b', 'd')|(None, 1)|\n",
        "|         ('d',)| ('b', 1)|\n",
        "|         ('b',)| ('d', 1)|\n",
        "|('b', 'd', 'e')|(None, 1)|\n",
        "|     ('d', 'e')| ('b', 1)|\n",
        "|     ('b', 'e')| ('d', 1)|\n",
        "|     ('b', 'd')| ('e', 1)|\n",
        "|     ('b', 'e')|(None, 1)|\n",
        "|         ('e',)| ('b', 1)|\n",
        "|         ('b',)| ('e', 1)|\n",
        "|         ('d',)|(None, 1)|\n",
        "|     ('d', 'e')|(None, 1)|\n",
        "|         ('e',)| ('d', 1)|\n",
        "|         ('d',)| ('e', 1)|\n",
        "|         ('e',)|(None, 1)|\n",
        "+---------------+---------+\n",
        "</code>\n",
        "</pre>"
      ]
    },
    {
      "cell_type": "code",
      "execution_count": 8,
      "metadata": {
        "colab": {
          "base_uri": "https://localhost:8080/"
        },
        "id": "t8aLrdMuMa0G",
        "outputId": "40f14867-261f-44ec-a4e8-078a752a32e0"
      },
      "outputs": [
        {
          "name": "stdout",
          "output_type": "stream",
          "text": [
            "+---------------+---------+\n",
            "|    subpatterns|    rules|\n",
            "+---------------+---------+\n",
            "|         ('a',)|(None, 2)|\n",
            "|         ('b',)|(None, 4)|\n",
            "|         ('c',)|(None, 3)|\n",
            "|         ('f',)|(None, 1)|\n",
            "|     ('a', 'b')|(None, 2)|\n",
            "|         ('b',)| ('a', 2)|\n",
            "|         ('a',)| ('b', 2)|\n",
            "|     ('a', 'c')|(None, 1)|\n",
            "|         ('c',)| ('a', 1)|\n",
            "|         ('a',)| ('c', 1)|\n",
            "|     ('a', 'f')|(None, 1)|\n",
            "|         ('f',)| ('a', 1)|\n",
            "|         ('a',)| ('f', 1)|\n",
            "|     ('b', 'c')|(None, 3)|\n",
            "|         ('c',)| ('b', 3)|\n",
            "|         ('b',)| ('c', 3)|\n",
            "|     ('b', 'f')|(None, 1)|\n",
            "|         ('f',)| ('b', 1)|\n",
            "|         ('b',)| ('f', 1)|\n",
            "|     ('c', 'f')|(None, 1)|\n",
            "|         ('f',)| ('c', 1)|\n",
            "|         ('c',)| ('f', 1)|\n",
            "|('a', 'b', 'c')|(None, 1)|\n",
            "|     ('b', 'c')| ('a', 1)|\n",
            "|     ('a', 'c')| ('b', 1)|\n",
            "|     ('a', 'b')| ('c', 1)|\n",
            "|('a', 'b', 'f')|(None, 1)|\n",
            "|     ('b', 'f')| ('a', 1)|\n",
            "|     ('a', 'f')| ('b', 1)|\n",
            "|     ('a', 'b')| ('f', 1)|\n",
            "|('a', 'c', 'f')|(None, 1)|\n",
            "|     ('c', 'f')| ('a', 1)|\n",
            "|     ('a', 'f')| ('c', 1)|\n",
            "|     ('a', 'c')| ('f', 1)|\n",
            "|('b', 'c', 'f')|(None, 1)|\n",
            "|     ('c', 'f')| ('b', 1)|\n",
            "|     ('b', 'f')| ('c', 1)|\n",
            "|     ('b', 'c')| ('f', 1)|\n",
            "|         ('d',)|(None, 1)|\n",
            "|         ('e',)|(None, 1)|\n",
            "|     ('a', 'd')|(None, 1)|\n",
            "|         ('d',)| ('a', 1)|\n",
            "|         ('a',)| ('d', 1)|\n",
            "|     ('a', 'e')|(None, 1)|\n",
            "|         ('e',)| ('a', 1)|\n",
            "|         ('a',)| ('e', 1)|\n",
            "|     ('b', 'd')|(None, 1)|\n",
            "|         ('d',)| ('b', 1)|\n",
            "|         ('b',)| ('d', 1)|\n",
            "|     ('b', 'e')|(None, 1)|\n",
            "|         ('e',)| ('b', 1)|\n",
            "|         ('b',)| ('e', 1)|\n",
            "|     ('d', 'e')|(None, 1)|\n",
            "|         ('e',)| ('d', 1)|\n",
            "|         ('d',)| ('e', 1)|\n",
            "|('a', 'b', 'd')|(None, 1)|\n",
            "|     ('b', 'd')| ('a', 1)|\n",
            "|     ('a', 'd')| ('b', 1)|\n",
            "|     ('a', 'b')| ('d', 1)|\n",
            "|('a', 'b', 'e')|(None, 1)|\n",
            "|     ('b', 'e')| ('a', 1)|\n",
            "|     ('a', 'e')| ('b', 1)|\n",
            "|     ('a', 'b')| ('e', 1)|\n",
            "|('a', 'd', 'e')|(None, 1)|\n",
            "|     ('d', 'e')| ('a', 1)|\n",
            "|     ('a', 'e')| ('d', 1)|\n",
            "|     ('a', 'd')| ('e', 1)|\n",
            "|('b', 'd', 'e')|(None, 1)|\n",
            "|     ('d', 'e')| ('b', 1)|\n",
            "|     ('b', 'e')| ('d', 1)|\n",
            "|     ('b', 'd')| ('e', 1)|\n",
            "+---------------+---------+\n",
            "\n"
          ]
        }
      ],
      "source": [
        "from copy import deepcopy\n",
        "def map_to_subpatterns(pattern):\n",
        "    \"\"\"\n",
        "    TODO DONE\n",
        "    \"\"\"\n",
        "    transaction = pattern[0]\n",
        "    occurence = pattern[1]\n",
        "\n",
        "    yield(transaction, (None, occurence))\n",
        "\n",
        "    transaction_list = list(transaction)\n",
        "\n",
        "    if len(transaction_list) > 1:\n",
        "      for product in transaction_list:\n",
        "        subpattern = [other_products for other_products in transaction if other_products != product]\n",
        "        yield(tuple(subpattern), (product, occurence))\n",
        "\n",
        "subpatterns_rdd = combined_patterns_rdd.flatMap(map_to_subpatterns)#TODO DONE\n",
        "\n",
        "# Output as dataframe\n",
        "subpatterns_rdd.map(format_tuples).toDF(['subpatterns', 'rules']).show(100)"
      ]
    },
    {
      "cell_type": "markdown",
      "metadata": {
        "id": "jl6TWh8rMa0J"
      },
      "source": [
        "### 2.4 Reduce Subpatterns (2.5 points)\n",
        "\n",
        "Encore une fois, une fonction **reduce** est nécessaire pour regrouper tous les sous-motif par leur KEY. L'objectif de cette procédure de réduction est de créer une liste de toutes les **règles** apparues dans KEY. Par conséquent, la sortie attendue résultant de cette fonction de réduction est également un élément KEY-VALUE, où la clé est la KEY du sous-motif et la valeur est un groupe contenant toutes les valeurs des sous-motif qui partagent la même clé.\n",
        "\n",
        "Pour le toy dataset, la sortie attendue est:\n",
        "___\n",
        "Once again, a **reduce** function will be required to group all the subpatterns by their KEY. The objective of this reducing procedure is to create a list of all **rules** that appeared in KEY. Hence, the expected output resulting from this reduce function is also a KEY-VALUE element, where the KEY is the subpattern's KEY, and the VALUE is a group containing all the VALUEs of the subpatterns that share the same KEY.\n",
        "\n",
        "For the toy dataset, the expected output is:\n",
        "\n",
        "\n",
        "<pre style=\"align:center; border:1px solid black;font-size: 8pt; line-height: 1.1; height: auto; width: 50em; padding-left:5px\">\n",
        "<code>\n",
        "+---------------+-------------------------------------------------------------+\n",
        "|subpatterns    |combined_rules                                               |\n",
        "+---------------+-------------------------------------------------------------+\n",
        "|('a',)         |[(None, 2), ('b', 2), ('c', 1), ('f', 1), ('d', 1), ('e', 1)]|\n",
        "|('a', 'b')     |[(None, 2), ('c', 1), ('f', 1), ('d', 1), ('e', 1)]          |\n",
        "|('b',)         |[('a', 2), (None, 4), ('c', 3), ('f', 1), ('d', 1), ('e', 1)]|\n",
        "|('a', 'b', 'c')|[(None, 1)]                                                  |\n",
        "|('b', 'c')     |[('a', 1), (None, 3), ('f', 1)]                              |\n",
        "|('a', 'c')     |[('b', 1), (None, 1), ('f', 1)]                              |\n",
        "|('a', 'b', 'f')|[(None, 1)]                                                  |\n",
        "|('b', 'f')     |[('a', 1), ('c', 1), (None, 1)]                              |\n",
        "|('a', 'f')     |[('b', 1), ('c', 1), (None, 1)]                              |\n",
        "|('c',)         |[('a', 1), ('b', 3), (None, 3), ('f', 1)]                    |\n",
        "|('a', 'c', 'f')|[(None, 1)]                                                  |\n",
        "|('c', 'f')     |[('a', 1), ('b', 1), (None, 1)]                              |\n",
        "|('f',)         |[('a', 1), ('b', 1), ('c', 1), (None, 1)]                    |\n",
        "|('b', 'c', 'f')|[(None, 1)]                                                  |\n",
        "|('a', 'b', 'd')|[(None, 1)]                                                  |\n",
        "|('b', 'd')     |[('a', 1), (None, 1), ('e', 1)]                              |\n",
        "|('a', 'd')     |[('b', 1), (None, 1), ('e', 1)]                              |\n",
        "|('a', 'b', 'e')|[(None, 1)]                                                  |\n",
        "|('b', 'e')     |[('a', 1), ('d', 1), (None, 1)]                              |\n",
        "|('a', 'e')     |[('b', 1), ('d', 1), (None, 1)]                              |\n",
        "+---------------+-------------------------------------------------------------+\n",
        "</code>\n",
        "</pre>\n"
      ]
    },
    {
      "cell_type": "code",
      "execution_count": 9,
      "metadata": {
        "colab": {
          "base_uri": "https://localhost:8080/"
        },
        "id": "LOP-SVIhMa0J",
        "outputId": "8acaa578-9d91-4b24-f532-d5caac6f7481"
      },
      "outputs": [
        {
          "name": "stdout",
          "output_type": "stream",
          "text": [
            "+---------------+-------------------------------------------------------------+\n",
            "|subpatterns    |combined_rules                                               |\n",
            "+---------------+-------------------------------------------------------------+\n",
            "|('a',)         |[(None, 2), ('b', 2), ('c', 1), ('f', 1), ('d', 1), ('e', 1)]|\n",
            "|('b',)         |[(None, 4), ('a', 2), ('c', 3), ('f', 1), ('d', 1), ('e', 1)]|\n",
            "|('c',)         |[(None, 3), ('a', 1), ('b', 3), ('f', 1)]                    |\n",
            "|('f',)         |[(None, 1), ('a', 1), ('b', 1), ('c', 1)]                    |\n",
            "|('a', 'b')     |[(None, 2), ('c', 1), ('f', 1), ('d', 1), ('e', 1)]          |\n",
            "|('a', 'c')     |[(None, 1), ('b', 1), ('f', 1)]                              |\n",
            "|('a', 'f')     |[(None, 1), ('b', 1), ('c', 1)]                              |\n",
            "|('b', 'c')     |[(None, 3), ('a', 1), ('f', 1)]                              |\n",
            "|('b', 'f')     |[(None, 1), ('a', 1), ('c', 1)]                              |\n",
            "|('c', 'f')     |[(None, 1), ('a', 1), ('b', 1)]                              |\n",
            "|('a', 'b', 'c')|[(None, 1)]                                                  |\n",
            "|('a', 'b', 'f')|[(None, 1)]                                                  |\n",
            "|('a', 'c', 'f')|[(None, 1)]                                                  |\n",
            "|('b', 'c', 'f')|[(None, 1)]                                                  |\n",
            "|('d',)         |[(None, 1), ('a', 1), ('b', 1), ('e', 1)]                    |\n",
            "|('e',)         |[(None, 1), ('a', 1), ('b', 1), ('d', 1)]                    |\n",
            "|('a', 'd')     |[(None, 1), ('b', 1), ('e', 1)]                              |\n",
            "|('a', 'e')     |[(None, 1), ('b', 1), ('d', 1)]                              |\n",
            "|('b', 'd')     |[(None, 1), ('a', 1), ('e', 1)]                              |\n",
            "|('b', 'e')     |[(None, 1), ('a', 1), ('d', 1)]                              |\n",
            "+---------------+-------------------------------------------------------------+\n",
            "only showing top 20 rows\n",
            "\n"
          ]
        }
      ],
      "source": [
        "combined_rules = subpatterns_rdd.groupByKey().mapValues(list)#TODO DONE\n",
        "\n",
        "# Output as dataframe\n",
        "combined_rules.map(format_tuples).toDF(['subpatterns', 'combined_rules']).show(truncate=False)"
      ]
    },
    {
      "cell_type": "markdown",
      "metadata": {
        "id": "Uh69x3a8Ma0P"
      },
      "source": [
        "### 2.5. Map to Association Rules (15 points)\n",
        "\n",
        "Enfin, la dernière étape de l'algorithme consiste à créer les règles d'association pour effectuer la MBA. Le but de cette fonction Map est de calculer le niveau **de confiance** de l'achat d'un produit, sachant qu'il y a déjà un ensemble de produits dans le panier. Ainsi, la KEY du sous-motif est l'ensemble des produits placés dans le panier et, pour chaque produit présent dans la liste des règles, c'est-à-dire dans la VALEUR, la confiance peut être calculée comme :\n",
        "\n",
        "\\begin{align*}\n",
        "\\frac{\\text{nombre de fois où le produit a été acheté avec KEY}}{\\text{nombre de fois où la KEY est apparue}}\n",
        "\\end{align*}\n",
        "\n",
        "Pour l'exemple donné dans la figure \"workflow\", *le café* a été acheté 20 fois et, dans 17 d'entre eux, le *lait* a été acheté ensemble. Ensuite, le niveau de confiance pour acheter du *lait* sachant que *le café* est dans le panier est $\\frac{17}{20}=0,85$, ce qui signifie que dans 85% des cas où le café a été acheté, le lait a aussi été acheté.\n",
        "\n",
        "Implémentez la fonction **map_to_assoc_rules** qui calcule le niveau de confiance pour chaque sous-motif.\n",
        "\n",
        "Pour le toy dataset, la sortie attendue est:\n",
        "___\n",
        "Finally, the last step of the algorithm is to create the association rules to perform the market basket analysis. The goal of this map function is to calculate the **confidence** level of buying a product, knowing that there is already a set of products in the basket. Thus, the KEY of the subpattern is the set of products placed in the basket and, for each product present in the list of rules, i.e., in the VALUE, the confidence can be calculated as:\n",
        "\n",
        "\\begin{align*}\n",
        "\\frac{\\text{number of times the product was bought together with KEY }}{\\text{number of times the KEY appeared}}\n",
        "\\end{align*}\n",
        "\n",
        "For the example given in the Figure workflow, *coffee* was bought 20 times and, in 17 of them, *milk* was bought together. Then, the confidence level of buying *milk* knowing that *coffee* is in the basket is $\\frac{17}{20} = 0.85$, which means that in 85% of the times the coffee was bought, milk was purchased as well.\n",
        "\n",
        "Implement the **map_to_assoc_rules** function that calculates the confidence level for each subpattern.\n",
        "\n",
        "For the toy dataset, the expected output is:\n",
        "<pre style=\"align:center; border:1px solid black;font-size: 8pt; line-height: 1.1; height: auto; width: 57em; padding-left:5px\">\n",
        "<code>\n",
        "+---------------+------------------------------------------------------------------+\n",
        "|patterns       |association_rules                                                 |\n",
        "+---------------+------------------------------------------------------------------+\n",
        "|('a',)         |[('b', 1.0), ('c', 0.5), ('f', 0.5), ('d', 0.5), ('e', 0.5)]      |\n",
        "|('a', 'b')     |[('c', 0.5), ('f', 0.5), ('d', 0.5), ('e', 0.5)]                  |\n",
        "|('b',)         |[('a', 0.5), ('c', 0.75), ('f', 0.25), ('d', 0.25), ('e', 0.25)]  |\n",
        "|('a', 'b', 'c')|[]                                                                |\n",
        "|('b', 'c')     |[('a', 0.3333333333333333), ('f', 0.3333333333333333)]            |\n",
        "|('a', 'c')     |[('b', 1.0), ('f', 1.0)]                                          |\n",
        "|('a', 'b', 'f')|[]                                                                |\n",
        "|('b', 'f')     |[('a', 1.0), ('c', 1.0)]                                          |\n",
        "|('a', 'f')     |[('b', 1.0), ('c', 1.0)]                                          |\n",
        "|('c',)         |[('a', 0.3333333333333333), ('b', 1.0), ('f', 0.3333333333333333)]|\n",
        "|('a', 'c', 'f')|[]                                                                |\n",
        "|('c', 'f')     |[('a', 1.0), ('b', 1.0)]                                          |\n",
        "|('f',)         |[('a', 1.0), ('b', 1.0), ('c', 1.0)]                              |\n",
        "|('b', 'c', 'f')|[]                                                                |\n",
        "|('a', 'b', 'd')|[]                                                                |\n",
        "|('b', 'd')     |[('a', 1.0), ('e', 1.0)]                                          |\n",
        "|('a', 'd')     |[('b', 1.0), ('e', 1.0)]                                          |\n",
        "|('a', 'b', 'e')|[]                                                                |\n",
        "|('b', 'e')     |[('a', 1.0), ('d', 1.0)]                                          |\n",
        "|('a', 'e')     |[('b', 1.0), ('d', 1.0)]                                          |\n",
        "+---------------+------------------------------------------------------------------+\n",
        "</code>\n",
        "</pre>"
      ]
    },
    {
      "cell_type": "code",
      "execution_count": 10,
      "metadata": {
        "colab": {
          "base_uri": "https://localhost:8080/"
        },
        "id": "DPrbn5CfMa0P",
        "outputId": "f65e13be-e4ee-4af8-9d9e-ef87e8fc3a3e"
      },
      "outputs": [
        {
          "name": "stdout",
          "output_type": "stream",
          "text": [
            "+---------------+------------------------------------------------------------------+\n",
            "|patterns       |association_rules                                                 |\n",
            "+---------------+------------------------------------------------------------------+\n",
            "|('a',)         |[('b', 1.0), ('c', 0.5), ('f', 0.5), ('d', 0.5), ('e', 0.5)]      |\n",
            "|('b',)         |[('a', 0.5), ('c', 0.75), ('f', 0.25), ('d', 0.25), ('e', 0.25)]  |\n",
            "|('c',)         |[('a', 0.3333333333333333), ('b', 1.0), ('f', 0.3333333333333333)]|\n",
            "|('f',)         |[('a', 1.0), ('b', 1.0), ('c', 1.0)]                              |\n",
            "|('a', 'b')     |[('c', 0.5), ('f', 0.5), ('d', 0.5), ('e', 0.5)]                  |\n",
            "|('a', 'c')     |[('b', 1.0), ('f', 1.0)]                                          |\n",
            "|('a', 'f')     |[('b', 1.0), ('c', 1.0)]                                          |\n",
            "|('b', 'c')     |[('a', 0.3333333333333333), ('f', 0.3333333333333333)]            |\n",
            "|('b', 'f')     |[('a', 1.0), ('c', 1.0)]                                          |\n",
            "|('c', 'f')     |[('a', 1.0), ('b', 1.0)]                                          |\n",
            "|('a', 'b', 'c')|[]                                                                |\n",
            "|('a', 'b', 'f')|[]                                                                |\n",
            "|('a', 'c', 'f')|[]                                                                |\n",
            "|('b', 'c', 'f')|[]                                                                |\n",
            "|('d',)         |[('a', 1.0), ('b', 1.0), ('e', 1.0)]                              |\n",
            "|('e',)         |[('a', 1.0), ('b', 1.0), ('d', 1.0)]                              |\n",
            "|('a', 'd')     |[('b', 1.0), ('e', 1.0)]                                          |\n",
            "|('a', 'e')     |[('b', 1.0), ('d', 1.0)]                                          |\n",
            "|('b', 'd')     |[('a', 1.0), ('e', 1.0)]                                          |\n",
            "|('b', 'e')     |[('a', 1.0), ('d', 1.0)]                                          |\n",
            "+---------------+------------------------------------------------------------------+\n",
            "only showing top 20 rows\n",
            "\n"
          ]
        }
      ],
      "source": [
        "def map_to_assoc_rules(rule):\n",
        "    \"\"\"\n",
        "    TODO DONE\n",
        "    \"\"\"\n",
        "    pattern, association_rules = rule\n",
        "    count = association_rules[0][1]  # Value of key None\n",
        "    rules = []\n",
        "    for rule in association_rules[1:]:\n",
        "        rules.append((rule[0], rule[1]/count))\n",
        "    yield (pattern, rules)\n",
        "\n",
        "\n",
        "assoc_rules = combined_rules.flatMap(map_to_assoc_rules)\n",
        "\n",
        "# Output as dataframe\n",
        "assoc_rules.map(format_tuples).toDF(\n",
        "    ['patterns', 'association_rules']).show(truncate=False)\n"
      ]
    },
    {
      "cell_type": "markdown",
      "metadata": {
        "id": "BPV5g2hwMa0U"
      },
      "source": [
        "## 3. Instacart dataset (35 points)\n",
        "\n",
        "Avec votre algorithme MBA prêt à être utilisé, il est maintenant temps de travailler sur l'ensemble de données réel. Pour cette partie du TP, téléchargez le dataset [instacart](https://drive.google.com/file/d/1pXjqPz1RbL40yCGWnTCbmW_ZXrjlfJi4/view?usp=sharing) et lisez sa [description](https://gist.github.com/jeremystan/c3b39d947d9b88b3ccff3147dbcf6c6b) pour comprendre la structure de l'ensemble de données.\n",
        "\n",
        "Avant d'appliquer l'algorithme développé sur l'ensemble de données instacart, vous devez d'abord filtrer les transactions pour qu'elles soient au même format défini par votre algorithme (une transaction par ligne). Pour manipuler les données, nous pouvons utiliser le bloc de données de Spark et le module SQL présenté dans la section 1.\n",
        "\n",
        "La cellule de code suivante utilise le module Spark SQL pour lire les commandes de ``order_products__train.csv`` et les informations détaillées de ``orders.csv`` et ``products.csv`` pour construire une dataframe qui contient un liste de tous les produits jamais achetés par chaque utilisateur.\n",
        "___\n",
        "With your MBA algorithm ready to be used, now it is time to work on the real dataset. For this part of the TP, download the [instacart](https://drive.google.com/file/d/1pXjqPz1RbL40yCGWnTCbmW_ZXrjlfJi4/view?usp=sharing) dataset and read its [description](https://gist.github.com/jeremystan/c3b39d947d9b88b3ccff3147dbcf6c6b) to understand how the dataset is structured. \n",
        "\n",
        "Before applying the developed algorithm on the instacart dataset, you must first filter the transactions to be in the same format defined by your algorithm (one transaction per row). To manipulate the data, we can use Spark's data frame and the SQL module presented in Section 1.\n",
        "\n",
        "The following code cell uses the Spark SQL module to read the orders from the ``order_products__train.csv`` and the detailed information from ``orders.csv`` and ``products.csv`` to construct a data frame that contains a list of all products ever purchased by each user."
      ]
    },
    {
      "cell_type": "code",
      "execution_count": 11,
      "metadata": {
        "colab": {
          "base_uri": "https://localhost:8080/"
        },
        "id": "6oB1eTkeMa0W",
        "outputId": "5f5a6d99-a271-4991-e13c-5713ed21703d"
      },
      "outputs": [
        {
          "name": "stdout",
          "output_type": "stream",
          "text": [
            "+-------+--------------------------------------------------------------------------------+\n",
            "|user_id|                                                                        products|\n",
            "+-------+--------------------------------------------------------------------------------+\n",
            "|      1|[Soda, Organic String Cheese, 0% Greek Strained Yogurt, XL Pick-A-Size Paper ...|\n",
            "|      2|[Organic Roasted Turkey Breast, Gluten Free Whole Grain Bread, Plantain Chips...|\n",
            "|      5|[Organic Raw Agave Nectar, Organic Large Extra Fancy Fuji Apple, Sharp Chedda...|\n",
            "|      7|[Panama Peach Antioxidant Infusion, Antioxidant Infusions Beverage Malawi Man...|\n",
            "|      8|[Shallot, Organic SprouTofu Silken Tofu, Nutritional Yeast Seasoning, Organic...|\n",
            "+-------+--------------------------------------------------------------------------------+\n",
            "only showing top 5 rows\n",
            "\n"
          ]
        }
      ],
      "source": [
        "# df_order_prod = spark.read.csv('gs://my_bucket_tp_nawras/notebooks/jupyter/instacart/order_products__train.csv', header=True, sep=',', inferSchema=True)\n",
        "# df_orders = spark.read.csv('gs://my_bucket_tp_nawras/notebooks/jupyter/instacart/orders.csv', header=True, sep=',', inferSchema=True)\n",
        "# df_products = spark.read.csv('gs://my_bucket_tp_nawras/notebooks/jupyter/instacart/products.csv', header=True, sep=',', inferSchema=True)\n",
        "\n",
        "df_order_prod = spark.read.csv(\n",
        "    'instacart/order_products__train.csv', header=True, sep=',', inferSchema=True)\n",
        "df_orders = spark.read.csv('instacart/orders.csv',\n",
        "                           header=True, sep=',', inferSchema=True)\n",
        "df_products = spark.read.csv(\n",
        "    'instacart/products.csv', header=True, sep=',', inferSchema=True)\n",
        "\n",
        "\"\"\"\n",
        "List of products ever purchased by each user\n",
        "\"\"\"\n",
        "# USING SQL\n",
        "df_order_prod.createOrReplaceTempView(\n",
        "    \"order_prod\")  # creates table 'order_prod'\n",
        "df_orders.createOrReplaceTempView(\"orders\")  # creates table 'orders'\n",
        "df_products.createOrReplaceTempView(\"products\")  # creates table 'products'\n",
        "spark.sql('SELECT o.user_id, COLLECT_LIST(p.product_name) AS products'\n",
        "          ' FROM orders o '\n",
        "          ' INNER JOIN order_prod op ON op.order_id = o.order_id'\n",
        "          ' INNER JOIN products p    ON op.product_id = p.product_id'\n",
        "          ' GROUP BY user_id ORDER BY o.user_id').show(5, truncate=80)\n",
        "\n",
        "\n",
        "# USING DATAFRAME OPERATIONS\n",
        "# df_orders.join(df_order_prod, df_order_prod.order_id == df_orders.order_id, 'inner')\\\n",
        "# .join(df_products, df_products.product_id == df_order_prod.product_id, 'inner')\\\n",
        "# .groupBy(df_orders.user_id).agg(f.collect_list(df_products.product_name).alias('products'))\\\n",
        "# .orderBy(df_orders.user_id).show(5, truncate=80)\n"
      ]
    },
    {
      "cell_type": "markdown",
      "metadata": {
        "id": "JEqVeqhkMa0a"
      },
      "source": [
        "### 3.1 Perspectives commerciales (20 points) \n",
        "\n",
        "Maintenant, vous êtes le *data scientist*. En ne considérant que les commandes de ``order_products__train.csv``, l'utilisation du module Spark SQL, performant avec SQL ou dataframe, pour répondre aux questions suivantes:\n",
        "\n",
        "1. Quels sont les 10 produits les plus susceptibles d'être commandé de nouveau? Ne considérez que les produits achetés au moins 40 fois pour cette tâche.\n",
        "2. Quels sont les 3 produits les plus achetés dans chaque département?\n",
        "4. Quelle est la taille moyenne du panier pour chaque jour de la semaine?\n",
        "    - utilisez un barplot pour visualiser vos résultats\n",
        "\n",
        "**La sortie de ces questions doit contenir le NOM des produits, pas leur ID.**\n",
        "___\n",
        "Now, you are the data scientist. Considering only the orders of ``order_products__train.csv``, use of Spark SQL module, performing with SQL or data frame, to answer the following questions:\n",
        "\n",
        "1. What are the top 10 products which have the highest probability of being reordered? Consider only products purchased at least 40 times for this task.\n",
        "2. What are the top 3 most purchased products of each department?\n",
        "4. What is the average basket size for each day of the week?\n",
        "- Hint: use a barplot to visualize your results\n",
        "\n",
        "**The output of those questions must contain the products' NAME, not their ID.**"
      ]
    },
    {
      "cell_type": "code",
      "execution_count": 31,
      "metadata": {
        "colab": {
          "base_uri": "https://localhost:8080/"
        },
        "id": "-IxS71fcN_Z0",
        "outputId": "07ce49e8-210f-4a3c-fdeb-e5d7b1128bbf"
      },
      "outputs": [
        {
          "name": "stdout",
          "output_type": "stream",
          "text": [
            "+--------------------+------------------+\n",
            "|             product|       probability|\n",
            "+--------------------+------------------+\n",
            "|2% Lactose Free Milk|0.9347826086956522|\n",
            "|Organic Low Fat Milk|0.9130434782608695|\n",
            "|100% Florida Oran...|0.8983050847457628|\n",
            "|Original Sparklin...|0.8888888888888888|\n",
            "|Organic Spelt Tor...|0.8888888888888888|\n",
            "|              Banana|0.8841717398269785|\n",
            "|  Petit Suisse Fruit|0.8833333333333333|\n",
            "|Organic Lowfat 1%...|0.8819875776397516|\n",
            "|Organic Lactose F...|0.8810408921933085|\n",
            "|      1% Lowfat Milk|0.8785249457700651|\n",
            "+--------------------+------------------+\n",
            "\n"
          ]
        }
      ],
      "source": [
        "\"\"\"\n",
        "TODO\n",
        "Top 10 product which have the highest probability of being reordered\n",
        "\"\"\"\n",
        "df1 = spark.sql(\n",
        "\"\"\"SELECT p.product_name AS product,\n",
        "       ( pd.product_reorder_count / pd.product_order_count ) AS probability\n",
        "FROM   (SELECT op.product_id,\n",
        "               COUNT(op.product_id) product_order_count,\n",
        "               SUM(op.reordered)    product_reorder_count\n",
        "        FROM   order_prod op\n",
        "        GROUP  BY product_id) pd\n",
        "       INNER JOIN products p\n",
        "               ON p.product_id = pd.product_id\n",
        "WHERE  pd.product_order_count >= 40\n",
        "ORDER  BY probability DESC\n",
        "LIMIT  10; \n",
        "\"\"\")\n",
        "\n",
        "df1.show()"
      ]
    },
    {
      "cell_type": "code",
      "execution_count": 13,
      "metadata": {
        "colab": {
          "base_uri": "https://localhost:8080/"
        },
        "id": "s6Seg7coOZPs",
        "outputId": "60d2f837-c5fc-40cf-e62a-515b6101bf2a"
      },
      "outputs": [
        {
          "name": "stdout",
          "output_type": "stream",
          "text": [
            "+--------------------+-----------+-------------+\n",
            "|             product|order_count|   department|\n",
            "+--------------------+-----------+-------------+\n",
            "|         Blueberries|       2323|       frozen|\n",
            "|Organic Broccoli ...|       1361|       frozen|\n",
            "|Organic Whole Str...|       1213|       frozen|\n",
            "|Roasted Almond Bu...|        174|        other|\n",
            "|Light CocoWhip! C...|         86|        other|\n",
            "|Roasted Unsalted ...|         62|        other|\n",
            "|100% Whole Wheat ...|       2298|       bakery|\n",
            "|Organic Bread wit...|        938|       bakery|\n",
            "|     Sourdough Bread|        738|       bakery|\n",
            "|              Banana|      18726|      produce|\n",
            "|Bag of Organic Ba...|      15480|      produce|\n",
            "|Organic Strawberries|      10894|      produce|\n",
            "|     Sauvignon Blanc|        295|      alcohol|\n",
            "|  Cabernet Sauvignon|        237|      alcohol|\n",
            "|                Beer|        224|      alcohol|\n",
            "|      Taco Seasoning|        405|international|\n",
            "|Organic Sea Salt ...|        345|international|\n",
            "|New Mexico Taco S...|        224|international|\n",
            "|Sparkling Water G...|       3359|    beverages|\n",
            "|        Spring Water|       2225|    beverages|\n",
            "+--------------------+-----------+-------------+\n",
            "only showing top 20 rows\n",
            "\n"
          ]
        }
      ],
      "source": [
        "\"\"\"\n",
        "TODO\n",
        "Top 3 most purchased products of each department\n",
        "\"\"\"\n",
        "# df_departments = spark.read.csv('gs://my_bucket_tp_nawras/notebooks/jupyter/instacart/departments.csv', header=True, sep=',', inferSchema=True)\n",
        "df_departments = spark.read.csv('instacart/departments.csv', header=True, sep=',', inferSchema=True)\n",
        "df_departments.createOrReplaceTempView(\"departments\") # creates table 'products'\n",
        "\n",
        "df2 = spark.sql(\"\"\"\n",
        "SELECT product,\n",
        "       order_count,\n",
        "       department\n",
        "FROM   (SELECT p.product_name                    product,\n",
        "               pd.order_count                    order_count,\n",
        "               d.department                      department,\n",
        "               d.department_id                   department_id,\n",
        "               Row_number()\n",
        "                 OVER(\n",
        "                   partition BY d.department_id\n",
        "                   ORDER BY pd.order_count DESC) r\n",
        "        FROM   (SELECT op.product_id,\n",
        "                       COUNT(op.product_id) AS order_count\n",
        "                FROM   order_prod op\n",
        "                GROUP  BY( op.product_id )) pd\n",
        "               INNER JOIN products p\n",
        "                       ON p.product_id = pd.product_id\n",
        "               INNER JOIN departments d\n",
        "                       ON d.department_id = p.department_id)\n",
        "WHERE  r <= 3 \n",
        "\"\"\")\n",
        "\n",
        "df2.show()\n"
      ]
    },
    {
      "cell_type": "code",
      "execution_count": 14,
      "metadata": {
        "colab": {
          "base_uri": "https://localhost:8080/"
        },
        "id": "4MODKAihOdCS",
        "outputId": "d2021073-a434-45e7-b580-dbf412f8d440"
      },
      "outputs": [
        {
          "name": "stdout",
          "output_type": "stream",
          "text": [
            "+---+---------------+\n",
            "|day|avg_basket_size|\n",
            "+---+---------------+\n",
            "|  0|             11|\n",
            "|  1|             10|\n",
            "|  2|              9|\n",
            "|  3|              9|\n",
            "|  4|              9|\n",
            "|  5|             10|\n",
            "|  6|             10|\n",
            "+---+---------------+\n",
            "\n"
          ]
        }
      ],
      "source": [
        "\"\"\"\n",
        "TODO\n",
        "Average basket size for each day of the week\n",
        "\"\"\"\n",
        "\n",
        "df3 = spark.sql(\"\"\"\n",
        "  SELECT o.order_dow               day,\n",
        "        Floor(Avg(b.basket_size)) avg_basket_size\n",
        "  FROM   (SELECT op.order_id        order_id,\n",
        "                Count(op.order_id) basket_size\n",
        "          FROM   order_prod op\n",
        "          GROUP  BY op.order_id) b\n",
        "        INNER JOIN orders o\n",
        "                ON o.order_id = b.order_id\n",
        "  GROUP  BY day\n",
        "  ORDER  BY day \n",
        "\"\"\")\n",
        "\n",
        "df3.show()"
      ]
    },
    {
      "cell_type": "code",
      "execution_count": 15,
      "metadata": {
        "colab": {
          "base_uri": "https://localhost:8080/",
          "height": 621
        },
        "id": "Opnt3t92TRq0",
        "outputId": "e0ff5267-125a-4d73-d3bb-7ed2bc921e81"
      },
      "outputs": [
        {
          "data": {
            "image/png": "[encoded data removed]",
            "text/plain": [
              "<Figure size 720x720 with 1 Axes>"
            ]
          },
          "metadata": {
            "needs_background": "light"
          },
          "output_type": "display_data"
        }
      ],
      "source": [
        "# !pip install matplotlib\n",
        "%matplotlib inline \n",
        "\n",
        "import matplotlib.pyplot as plt\n",
        "data3 = df3.collect()\n",
        "indexes = list(range(len(data3)))\n",
        "fig = plt.figure(figsize=(10,10))\n",
        "days = ['Lundi', 'Mardi', 'Mercredi', 'Jeudi', 'Vendredi', 'Samedi', 'Dimanche']\n",
        "day = list(map(lambda x: days[x], [r['day'] for r in data3]))\n",
        "counts = [r['avg_basket_size'] for r in data3]\n",
        "plt.bar(indexes, counts)\n",
        "plt.xticks(range(len(day)), day)\n",
        "\n",
        "plt.xlabel(\"Jour de la semaine\")\n",
        "plt.ylabel(\"Taille moyenne du panier des clients\")\n",
        "plt.title(\"Taille moyenne des paniers des clients par jour de la semaine.\")\n",
        "plt.show()"
      ]
    },
    {
      "cell_type": "markdown",
      "metadata": {
        "id": "PEWqTH1QMa0a"
      },
      "source": [
        "### 3.2 MBA pour le training set / Run MBA for the training set (15 points)\n",
        "\n",
        "En utilisant les commandes du ``order_products__train.csv``, créez un bloc de données où chaque ligne contient la colonne ``transaction`` avec la liste des produits achetés, de manière similaire à le toy dataset. Ensuite, exécutez l'algorithme MBA pour cet ensemble de transactions.\n",
        "\n",
        "- Vous devez signaler le temps passé pour effectuer cette tâche.\n",
        "- La sortie doit contenir le nom des produits.\n",
        "___\n",
        "Using the orders from the ``order_products__train.csv``, create a data frame where each row contains the column “transaction” with the list of purchased products, similarly to the toy dataset. In sequence, run the MBA algorithm for this set of transactions. \n",
        "\n",
        "- You must report the time spent to perform this task.\n",
        "- Output must contain the products' name."
      ]
    },
    {
      "cell_type": "code",
      "execution_count": 29,
      "metadata": {
        "colab": {
          "base_uri": "https://localhost:8080/"
        },
        "id": "vxZh_f3hMa0b",
        "outputId": "9db3ccbd-6c7c-4008-a542-d42eaefd7056"
      },
      "outputs": [
        {
          "name": "stdout",
          "output_type": "stream",
          "text": [
            "+--------+--------------------+\n",
            "|order_id|         transaction|\n",
            "+--------+--------------------+\n",
            "|       1|Bulgarian Yogurt;...|\n",
            "|      96|Roasted Turkey;Or...|\n",
            "|     112|Fresh Cauliflower...|\n",
            "|     218|Natural Artisan W...|\n",
            "|     456|Chorizo Pork;Peti...|\n",
            "|     473|Organic Whole Mil...|\n",
            "|     631|Organic Strawberr...|\n",
            "|     762|Organic Strawberr...|\n",
            "|     774|Ice Cream Variety...|\n",
            "|     844|Green Beans;Organ...|\n",
            "|     904|Cup Noodles Chick...|\n",
            "|     988|Natural Vanilla I...|\n",
            "|    1032|Clover Org Greek ...|\n",
            "|    1077|Bag of Organic Ba...|\n",
            "|    1119|Boneless Skinless...|\n",
            "|    1139|Banana;Organic St...|\n",
            "|    1143|Natural Premium C...|\n",
            "|    1145|Banana;Original F...|\n",
            "|    1275|Boneless Skinless...|\n",
            "|    1280|Lactose Free Half...|\n",
            "+--------+--------------------+\n",
            "only showing top 20 rows\n",
            "\n",
            "CPU times: user 142 ms, sys: 15.1 ms, total: 157 ms\n",
            "Wall time: 23.3 s\n"
          ]
        }
      ],
      "source": [
        "%%time\n",
        "\"\"\"\n",
        "TODO: create a query to create and struct the transaction\n",
        "\"\"\"\n",
        "df_order_prod = spark.read.csv('instacart/order_products__train.csv', header=True, sep=',', inferSchema=True)\n",
        "df_order_prod.createOrReplaceTempView(\"order_prod\") # creates table 'products'\n",
        "\n",
        "df4 = spark.sql(\"\"\"\n",
        "SELECT op.order_id, CONCAT_WS(\";\", COLLECT_LIST(p.product_name)) transaction \n",
        "FROM order_prod op \n",
        "INNER JOIN products p ON op.product_id = p.product_id\n",
        "GROUP BY op.order_id\n",
        "\"\"\")\n",
        "\n",
        "df4.show()\n"
      ]
    },
    {
      "cell_type": "code",
      "execution_count": 30,
      "metadata": {
        "colab": {
          "base_uri": "https://localhost:8080/"
        },
        "id": "dewN0YUEMa0h",
        "outputId": "11ab6da7-da55-4887-f5e0-03d45a99d188"
      },
      "outputs": [
        {
          "name": "stdout",
          "output_type": "stream",
          "text": [
            "+----------------------------------------------------------------------------------+----------------------------------------------------------------------------------------------------+\n",
            "|                                                                          patterns|                                                                                   association_rules|\n",
            "+----------------------------------------------------------------------------------+----------------------------------------------------------------------------------------------------+\n",
            "|                                   ('Organic Plain Yogurt', 'Seedless Watermelon')|[('Organic Strawberry Spread', 1.0), ('Hass Avocados', 1.0), ('Fat Free Milk', 1.0), ('Sliced Pea...|\n",
            "|          ('Kidz All Natural Baked Chicken Nuggets', 'Lactose Free Fat Free Milk')|[('Sandwich Cracker Cheddar', 1.0), ('Lactose Free 2% Reduced Fat Milk', 1.0), ('Potato Puffs wit...|\n",
            "|                           ('All Natural Virgin Lemonade', 'Natural Spring Water')|[('Vanilla Pure Almond Milk', 1.0), ('Green Seedless Grapes', 1.0), ('Chicken & Vegetable Snack S...|\n",
            "|('Organic Light In Sodium Traditional Refried Beans', 'Rosemary Mini Croccantini')|[('Organic Reduced Fat Milk', 1.0), ('Organic Hearty Tomato Bisque', 1.0), ('Total 2% All Natural...|\n",
            "|    ('Cherry Garcia Frozen Yogurt', 'Organic Free Range Low Sodium Chicken Broth')|[(None, 1.0), ('Organic Cilantro', 1.0), ('Organic Shredded Carrots', 1.0), ('Jalapeno Peppers', ...|\n",
            "+----------------------------------------------------------------------------------+----------------------------------------------------------------------------------------------------+\n",
            "only showing top 5 rows\n",
            "\n",
            "CPU times: user 53.6 s, sys: 6.2 s, total: 59.8 s\n",
            "Wall time: 2h 38min 3s\n"
          ]
        }
      ],
      "source": [
        "%%time\n",
        "\"\"\"\n",
        "TODO: run the MBA algorithm and show the first 5 association rules\n",
        "\"\"\"\n",
        "\n",
        "data = df4.rdd\\\n",
        "  .flatMap(map_to_patterns)\\\n",
        "  .reduceByKey(reduce_patterns)\\\n",
        "  .flatMap(map_to_subpatterns)\\\n",
        "  .groupByKey().mapValues(list)\\\n",
        "  .flatMap(map_to_assoc_rules)\\\n",
        "  .map(format_tuples)\\\n",
        "  .toDF(['patterns', 'association_rules'])\n",
        "\n",
        "data.show(5, truncate=100)\n"
      ]
    },
    {
      "cell_type": "markdown",
      "metadata": {
        "id": "5DkNPEtGMa0l"
      },
      "source": [
        "## 4. MBA pour le dataset complet / MBA for the full dataset (20 points)\n",
        "\n",
        "Comme vous l'avez probablement remarqué, même pour un ensemble de données moins volumineux (le training dataset ne contient que 131 000 commandes), l'algorithme MBA est coûteux en calcul. Pour cette raison, cette fois, nous allons répéter le processus, mais en utilisant maintenant Google Cloud Platform (GCP) pour créer un grand cluster. Toutes les instructions pour créer un cluster avec spark et comment soumettre un travail seront expliquées dans le laboratoire. Dans tous les cas, vous devez lire les instructions données dans le ``Instruction_GCP.pdf``.\n",
        "\n",
        "Cette fois, nous travaillerons avec le fichier ``order_products__prior.csv``, qui contient plus de 3M commandes.\n",
        "\n",
        "**PRODUCTION ATTENDUE**\n",
        "\n",
        "Après avoir exécuté le MBA pour la plus grande collection de commandes, sélectionnez au hasard UN produit acheté dans ``order_products__prior`` et affichez les règles d'association (nom du produit et valeur d'association) de ce produit, c'est-à-dire lorsque le produit est seul dans le panier. La sortie doit être formatée dans un tableau, où chaque ligne contenant les informations d'un produit associé. \n",
        "\n",
        "- Affichez l'ID et le nom du produit sélectionné au hasard.\n",
        "- Signaler le temps d'exécution.\n",
        "\n",
        "**Remarque importante : joignez des captures d'écran de votre sortie et de votre configuration de cluster.** \n",
        "___\n",
        "As you probably noticed, even for a not so large data set (the training file has only 131K orders), the MBA algorithm is computationally expensive. For that reason, this time, we will repeat the process, but now using the Google Cloud Platform (GCP) to create a large computer cluster. All the instructions for creating a computing cluster with spark and how to submit a job will be explained in both sessions of the laboratory. In any case, you should read the instructions given in the ``Instruction_GCP.pdf``.\n",
        "\n",
        "This time, we will work with the ``order_products__prior.csv`` file, which contains more than 3M orders.\n",
        "\n",
        "**EXPECTED OUTPUT**\n",
        "\n",
        "After you ran the MBA for the larger collection of orders, randomly select ONE product purchased in ``order_products__prior`` and print the association rules (product name and association value) of this product, i.e., when the product is alone in the basket. The output should be formatted in a table, where each row containing the information of one associated product.\n",
        "\n",
        "- Print both ID and Name of the random selected product.\n",
        "- Report the execution time.\n",
        "\n",
        "**Important note: Attach screenshots from your output and configuration of your cluster.** "
      ]
    },
    {
      "cell_type": "code",
      "execution_count": null,
      "metadata": {
        "id": "X1cVWxraMa0l",
        "outputId": "37e90071-7858-4cdf-ca63-9337aa9ba00c"
      },
      "outputs": [],
      "source": [
        "%%time\n",
        "\"\"\"\n",
        "TODO: create a query to create and sctruct the transactions from the order_products__prior.csv file\n",
        "\"\"\"\n",
        "\n",
        "# df_order_prod = spark.read.csv('gs://my_bucket_tp_nawras/notebooks/jupyter/instacart/order_products__prior.csv', header=True, sep=',', inferSchema=True)\n",
        "df_order_prod = spark.read.csv('instacart/order_products__prior.csv', header=True, sep=',', inferSchema=True)\n",
        "df_order_prod.createOrReplaceTempView(\"order_prod\") # creates table 'products'\n",
        "\n",
        "df5 = spark.sql(\"\"\"\n",
        "SELECT op.order_id, CONCAT_WS(\";\", COLLECT_LIST(p.product_name)) transaction \n",
        "FROM order_prod op \n",
        "INNER JOIN products p ON op.product_id = p.product_id\n",
        "GROUP BY op.order_id\n",
        "\"\"\")\n",
        "\n",
        "df5.show()"
      ]
    },
    {
      "cell_type": "code",
      "execution_count": null,
      "metadata": {
        "id": "MVBQ12b2Ma0o",
        "outputId": "5281e2b6-edf0-4db3-cfb3-1bc0126fe8a9"
      },
      "outputs": [
        {
          "name": "stderr",
          "output_type": "stream",
          "text": [
            "[Stage 124:>                                                        (0 + 1) / 1]\r"
          ]
        },
        {
          "name": "stdout",
          "output_type": "stream",
          "text": [
            "+--------------------+--------------------+\n",
            "|            patterns|   association_rules|\n",
            "+--------------------+--------------------+\n",
            "|('Cheddar Cheese'...|[('Oven Roasted T...|\n",
            "|('Rice Thins Brow...|[('Banana', 1.0),...|\n",
            "|('Strawberry Rhub...|[('Organic Lowfat...|\n",
            "|('Mini Glazed Don...|[('Original Value...|\n",
            "|('Organic Chicken...|[('Chicken Pad Th...|\n",
            "+--------------------+--------------------+\n",
            "only showing top 5 rows\n",
            "\n",
            "CPU times: user 397 ms, sys: 131 ms, total: 528 ms\n",
            "Wall time: 47min 26s\n"
          ]
        },
        {
          "name": "stderr",
          "output_type": "stream",
          "text": [
            "                                                                                \r"
          ]
        }
      ],
      "source": [
        "%%time\n",
        "\"\"\"\n",
        "TODO: run the MBA algorithm and print the requested output\n",
        "\"\"\"\n",
        "\n",
        "data = df5.rdd\\\n",
        "  .flatMap(map_to_patterns)\\\n",
        "  .reduceByKey(reduce_patterns)\\\n",
        "  .flatMap(map_to_subpatterns)\\\n",
        "  .groupByKey().mapValues(list)\\\n",
        "  .flatMap(map_to_assoc_rules)\\\n",
        "  .map(format_tuples)\\\n",
        "  .toDF(['patterns', 'association_rules'])\n",
        "\n",
        "data.show(5)\n"
      ]
    },
    {
      "cell_type": "markdown",
      "metadata": {
        "id": "n3Bv_E9IgTqd"
      },
      "source": [
        "## Screenshot of the result of the MBA algorithm on the entire dataset:\n",
        "\n",
        "![screenshot-q4.png](./screenshot-q4.png)\n",
        "\n",
        "### GCP Configuration used:\n",
        "\n",
        "![screenshot-q4.png](./screenshot-q4-2.png)\n",
        "\n",
        "Because GCP continuously denied our attempts at increasing our CPU limit cout to 128 (highest we had was 100 VCPUs), despite trying the different methods given in the guide, we had to limit the worker nodes to 5 N1 highmem 16 vCPU at 104 GiB of RAM each.\n",
        "\n",
        "This made the execution run for around 47 minutes , as it's shown in the first screenshot."
      ]
    }
  ],
  "metadata": {
    "colab": {
      "collapsed_sections": [],
      "provenance": []
    },
    "kernelspec": {
      "display_name": "Python 3.10.4 ('venv': venv)",
      "language": "python",
      "name": "python3"
    },
    "language_info": {
      "codemirror_mode": {
        "name": "ipython",
        "version": 3
      },
      "file_extension": ".py",
      "mimetype": "text/x-python",
      "name": "python",
      "nbconvert_exporter": "python",
      "pygments_lexer": "ipython3",
      "version": "3.10.4"
    },
    "vscode": {
      "interpreter": {
        "hash": "eac928066c29a56ef08f99faa19d4f67d422e1fcf652fdcf77af7802209d79a5"
      }
    }
  },
  "nbformat": 4,
  "nbformat_minor": 0
}
