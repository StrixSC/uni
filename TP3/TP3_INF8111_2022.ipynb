{
  "cells": [
    {
      "cell_type": "markdown",
      "metadata": {
        "id": "5fHWJhwOXGzh"
      },
      "source": [
        "# INF8111 - Fouille de données / Data Mining\n",
        "## Automne 2020 - TP3 - Fouille de réseaux sociaux / Mining of social networks\n",
        "### Membres de l'équipe / Team members\n",
        "    - Mohammed Amin, Nawras (1962832)\n",
        "    - Patel, Pritam (1933097)\n",
        "    - Islam, Mohammed Ariful (1950221)\n"
      ]
    },
    {
      "cell_type": "markdown",
      "metadata": {
        "id": "TmGvqtSVgfXi"
      },
      "source": [
        "## Instructions de remise / Submission\n",
        "\n",
        "Vous devez remettre dans la boîte de remise sur moodle:\n",
        "\n",
        "1. ce fichier nommé TP3\\_NomDuMembre1\\_NomDuMembre2\\_NomDuMembre3.ipynb\n",
        "\n",
        "**N.B**: Assurez-vous que tous les résultats soient lisibles lorsque le notebook est ouvert.\n",
        "\n",
        "Tout devra être remis avant le **23 juin 2021 à 23h55**. Tout travail en retard sera pénalisé d’une valeur de 10\\% par jour ouvrable de retard.\n",
        "\n",
        "## Barème\n",
        "\n",
        "Partie 1: 14 points\n",
        "\n",
        "Partie 2: 6 points\n",
        "\n",
        "Pour un total de 20 points.\n",
        "\n",
        "\n",
        "---\n",
        "\n",
        "## Submission\n",
        "\n",
        "You must put back in the submission box on moodle:\n",
        "\n",
        "1. this file renamed TP3\\_NomDuMembre1\\_NomDuMembre2\\_NomDuMembre3.ipynb\n",
        "\n",
        "**N.B**: Make sure that all results are there when you open your notebook.\n",
        "\n",
        "Everything must be submitted before **June 26th 2021 à 23h55**. Any late work will be penalized with a value of 10% per open day of delay.\n",
        "\n",
        "## Barème\n",
        "Part 1: 14 points\n",
        "\n",
        "Part 2: 6 points\n",
        "\n",
        "For a total of 20 points.\n"
      ]
    },
    {
      "cell_type": "markdown",
      "metadata": {
        "id": "P1et8f3nXGzk"
      },
      "source": [
        "## Réseaux sociaux / Social Networks\n",
        "Les réseaux sociaux occupent une grande partie de la vie humaine. Chaque personne appartient tout le long de sa vie à différentes communautés. Avec le rassemblage de ces informations sur les différentes plateformes en ligne de réseaux sociaux, les analystes de données ont voulu exploiter ces données. C'est un domaine relativement nouveau qui est en pleine croissance avec plusieurs impacts sur plusieurs aspects tels que la publicité et les systèmes de recommandation. \n",
        "\n",
        "### But\n",
        "Le but de ce TP est de vous donner un aperçu de l'analyse d'un réseau social.\n",
        "\n",
        "Dans la première partie, vous implémenterez un algorithme de détection de communautés dans un réseau social nommé LPAm+. Cet algorithme a été proposé par [X. Liu et T. Murata en 2010](https://www.sciencedirect.com/science/article/pii/S0378437109010152).\n",
        "\n",
        "Dans la deuxième partie, vous trouverez les personnes avec le plus d'influence dans leur réseau social. \n",
        "\n",
        "Pour les deux parties, nous vous fournissons les CSV contenant les réseaux sociaux à analyser.\n",
        "\n",
        "\n",
        "---\n",
        "\n",
        "## Social networks\n",
        "Social networks are a major component of the human life. Each person belongs throughout their life to different communities. With the aggregation of information on various online social media platforms, data analysts were interested in exploiting its data. It is a relatively new field that is growing with impacts on several aspects such as advertising and recommendation systems.\n",
        "\n",
        "\n",
        "### Goal\n",
        "The purpose of this lab is to give you an overview of social network analysis.\n",
        "\n",
        "In the first part, you will implement an algorithm for detecting communities in a social network called LPAm+. This algorithm was proposed by [X. Liu and T. Murata in 2010](https://www.sciencedirect.com/science/article/pii/S0378437109010152).\n",
        "\n",
        "In the second part, you will find the people with the most influence in their social network.\n",
        "\n",
        "For both parts, we provide you with the CSV containing the social networks to be analysed."
      ]
    },
    {
      "cell_type": "markdown",
      "metadata": {
        "id": "517JwzlPXGzp"
      },
      "source": [
        "# 1. LPAm+ (14 points)\n",
        "\n",
        "## Détection de communauté\n",
        "La détection de communauté dans un réseau social est une manipulation fréquente lors de l'analyse d'un réseau. Une méthode de clustering est utilisée pour rassembler les personnes dans des communautés selon les liens entre eux. \n",
        "\n",
        "## LPAm+\n",
        "Dans cette partie, vous implémenterez l'algorithme LPAm+ pour détecter les communautés parmi les personnages de Games of Thrones. Vous devez utiliser les CSV *nodes* et *edges* pour cela. \n",
        "\n",
        "Cet algorithme consiste à propager les étiquettes dans le réseau selon une règle d'évaluation optimisant la modularité du réseau. Lorsque l'algorithme atteint un optimum local, il regarde s'il peut combiner deux communautés pour augmenter la modularité du réseau. L'algorithme choisit toujours la combinaison la plus avantageuse. Si une combinaison est trouvée, la propagation des étiquettes est refaite. L'algorithme continue tant qu'elle peut améliorer la modularité. Vous pouvez lire l'article mentionné plus haut pour plus de détails, mais cela n'est pas nécessaire puisque vous allez être guidé tout le long du TP. \n",
        "\n",
        "Pour faciliter la représentation du réseau, nous vous proposons d'utiliser le package networkx. La documentation est disponible [ici](https://networkx.github.io/documentation/stable/tutorial.html).\n",
        "\n",
        "\n",
        "\n",
        "---\n",
        "\n",
        "# 1. LPAm+ (14 points)\n",
        "\n",
        "\n",
        "## Community detection\n",
        "Community detection in a social network is a frequent manipulation when analysing a network. A clustering method is used to bring people together in communities according to the links between them.\n",
        "\n",
        "\n",
        "## LPAm+\n",
        "In this part, you will implement the LPAm+ algorithm to detect the communities among the characters of Games of Thrones. You must use the nodes and edges csv for this.\n",
        "\n",
        "This algorithm consists in propagating the labels in the network according to an evaluation rule optimizing the modularity of the network. When the algorithm reaches a local optimum, it checks whether it can combine two communities to increase the modularity of the network. The algorithm always chooses the most advantageous combination. If a combination is found, the propagation of the labels is redone. The algorithm continues until it is no longer able to increase modularity. You can read the article mentioned above for more details, but you do not need to, as you will be guided throughout the TP.\n",
        "\n",
        "\n",
        "To help you represent a network, we suggest that you use the networkx package. You can read more about the package [here](https://networkx.github.io/documentation/stable/tutorial.html)."
      ]
    },
    {
      "cell_type": "code",
      "execution_count": null,
      "metadata": {
        "id": "9DGyw323Srh0"
      },
      "outputs": [
        {
          "name": "stdout",
          "output_type": "stream",
          "text": [
            "Requirement already satisfied: numpy in c:\\users\\nawra\\documents\\github\\inf8111\\tp3\\venv\\lib\\site-packages (1.23.4)\n",
            "Note: you may need to restart the kernel to use updated packages.\n"
          ]
        },
        {
          "name": "stderr",
          "output_type": "stream",
          "text": [
            "WARNING: You are using pip version 22.0.4; however, version 22.3.1 is available.\n",
            "You should consider upgrading via the 'c:\\Users\\nawra\\Documents\\GitHub\\INF8111\\TP3\\venv\\Scripts\\python.exe -m pip install --upgrade pip' command.\n"
          ]
        },
        {
          "name": "stdout",
          "output_type": "stream",
          "text": [
            "Requirement already satisfied: pandas in c:\\users\\nawra\\documents\\github\\inf8111\\tp3\\venv\\lib\\site-packages (1.5.1)Note: you may need to restart the kernel to use updated packages.\n"
          ]
        },
        {
          "name": "stderr",
          "output_type": "stream",
          "text": [
            "WARNING: You are using pip version 22.0.4; however, version 22.3.1 is available.\n",
            "You should consider upgrading via the 'c:\\Users\\nawra\\Documents\\GitHub\\INF8111\\TP3\\venv\\Scripts\\python.exe -m pip install --upgrade pip' command.\n"
          ]
        },
        {
          "name": "stdout",
          "output_type": "stream",
          "text": [
            "\n",
            "Requirement already satisfied: python-dateutil>=2.8.1 in c:\\users\\nawra\\documents\\github\\inf8111\\tp3\\venv\\lib\\site-packages (from pandas) (2.8.2)\n",
            "Requirement already satisfied: pytz>=2020.1 in c:\\users\\nawra\\documents\\github\\inf8111\\tp3\\venv\\lib\\site-packages (from pandas) (2022.6)\n",
            "Requirement already satisfied: numpy>=1.21.0 in c:\\users\\nawra\\documents\\github\\inf8111\\tp3\\venv\\lib\\site-packages (from pandas) (1.23.4)\n",
            "Requirement already satisfied: six>=1.5 in c:\\users\\nawra\\documents\\github\\inf8111\\tp3\\venv\\lib\\site-packages (from python-dateutil>=2.8.1->pandas) (1.16.0)\n",
            "Note: you may need to restart the kernel to use updated packages.Requirement already satisfied: matplotlib in c:\\users\\nawra\\documents\\github\\inf8111\\tp3\\venv\\lib\\site-packages (3.6.2)\n",
            "Requirement already satisfied: numpy>=1.19 in c:\\users\\nawra\\documents\\github\\inf8111\\tp3\\venv\\lib\\site-packages (from matplotlib) (1.23.4)\n",
            "Requirement already satisfied: fonttools>=4.22.0 in c:\\users\\nawra\\documents\\github\\inf8111\\tp3\\venv\\lib\\site-packages (from matplotlib) (4.38.0)\n",
            "Requirement already satisfied: packaging>=20.0 in c:\\users\\nawra\\documents\\github\\inf8111\\tp3\\venv\\lib\\site-packages (from matplotlib) (21.3)\n",
            "Requirement already satisfied: pyparsing>=2.2.1 in c:\\users\\nawra\\documents\\github\\inf8111\\tp3\\venv\\lib\\site-packages (from matplotlib) (3.0.9)\n",
            "Requirement already satisfied: pillow>=6.2.0 in c:\\users\\nawra\\documents\\github\\inf8111\\tp3\\venv\\lib\\site-packages (from matplotlib) (9.3.0)\n",
            "Requirement already satisfied: contourpy>=1.0.1 in c:\\users\\nawra\\documents\\github\\inf8111\\tp3\\venv\\lib\\site-packages (from matplotlib) (1.0.6)\n",
            "Requirement already satisfied: cycler>=0.10 in c:\\users\\nawra\\documents\\github\\inf8111\\tp3\\venv\\lib\\site-packages (from matplotlib) (0.11.0)\n",
            "Requirement already satisfied: kiwisolver>=1.0.1 in c:\\users\\nawra\\documents\\github\\inf8111\\tp3\\venv\\lib\\site-packages (from matplotlib) (1.4.4)\n",
            "Requirement already satisfied: python-dateutil>=2.7 in c:\\users\\nawra\\documents\\github\\inf8111\\tp3\\venv\\lib\\site-packages (from matplotlib) (2.8.2)\n",
            "Requirement already satisfied: six>=1.5 in c:\\users\\nawra\\documents\\github\\inf8111\\tp3\\venv\\lib\\site-packages (from python-dateutil>=2.7->matplotlib) (1.16.0)\n",
            "\n"
          ]
        },
        {
          "name": "stderr",
          "output_type": "stream",
          "text": [
            "WARNING: You are using pip version 22.0.4; however, version 22.3.1 is available.\n",
            "You should consider upgrading via the 'c:\\Users\\nawra\\Documents\\GitHub\\INF8111\\TP3\\venv\\Scripts\\python.exe -m pip install --upgrade pip' command.\n"
          ]
        },
        {
          "name": "stdout",
          "output_type": "stream",
          "text": [
            "Note: you may need to restart the kernel to use updated packages.Requirement already satisfied: networkx in c:\\users\\nawra\\documents\\github\\inf8111\\tp3\\venv\\lib\\site-packages (2.8.8)\n",
            "\n"
          ]
        },
        {
          "name": "stderr",
          "output_type": "stream",
          "text": [
            "WARNING: You are using pip version 22.0.4; however, version 22.3.1 is available.\n",
            "You should consider upgrading via the 'c:\\Users\\nawra\\Documents\\GitHub\\INF8111\\TP3\\venv\\Scripts\\python.exe -m pip install --upgrade pip' command.\n"
          ]
        },
        {
          "name": "stdout",
          "output_type": "stream",
          "text": [
            "Requirement already satisfied: scipy in c:\\users\\nawra\\documents\\github\\inf8111\\tp3\\venv\\lib\\site-packages (1.9.3)\n",
            "Requirement already satisfied: numpy<1.26.0,>=1.18.5 in c:\\users\\nawra\\documents\\github\\inf8111\\tp3\\venv\\lib\\site-packages (from scipy) (1.23.4)\n",
            "Note: you may need to restart the kernel to use updated packages.\n"
          ]
        },
        {
          "name": "stderr",
          "output_type": "stream",
          "text": [
            "WARNING: You are using pip version 22.0.4; however, version 22.3.1 is available.\n",
            "You should consider upgrading via the 'c:\\Users\\nawra\\Documents\\GitHub\\INF8111\\TP3\\venv\\Scripts\\python.exe -m pip install --upgrade pip' command.\n"
          ]
        }
      ],
      "source": [
        "# vous pouvez bien sûr utiliser anaconda pour installer les packages\n",
        "%pip install numpy\n",
        "%pip install pandas\n",
        "%pip install matplotlib\n",
        "%pip install networkx\n",
        "%pip install scipy"
      ]
    },
    {
      "cell_type": "code",
      "execution_count": 442,
      "metadata": {
        "id": "SK6OhgIoSrh5"
      },
      "outputs": [],
      "source": [
        "import numpy as np\n",
        "import networkx as nx\n",
        "import random\n",
        "\n",
        "random.seed(42)\n",
        "np.random.seed(42)\n",
        "root = \"./\"\n",
        "\n",
        "\n",
        "class LPAmPlus:\n",
        "    # OK\n",
        "    def __init__(self, graph):\n",
        "        # graph gives the graph on which the algorithm will be applied;\n",
        "        self.graph = graph\n",
        "\n",
        "        # Assign a label to each node\n",
        "        for node in self.graph.nodes:\n",
        "            self.graph.nodes[node][\"label\"] = node\n",
        "\n",
        "        # labels gives all the communities present in the network\n",
        "        self.labels = list(self.graph.nodes)\n",
        "\n",
        "    \"\"\"\n",
        "    Term to optimize when replacing labels\n",
        "    \"\"\"\n",
        "    # OK\n",
        "    def label_evaluation(self, current_node, new_label):\n",
        "        res = 0\n",
        "        B = nx.modularity_matrix(self.graph)\n",
        "        current_node_index = list(self.graph.nodes).index(current_node)\n",
        "        for i, n in enumerate(self.graph.nodes):\n",
        "            if current_node_index != i and self.graph.nodes[n][\"label\"] == new_label:\n",
        "                res += B[i, current_node_index]\n",
        "        return res\n",
        "\n",
        "    \"\"\"\n",
        "    Function to choose the new label for a node\n",
        "    \"\"\"\n",
        "\n",
        "    def update_label(self, current_node):\n",
        "        scores = {}\n",
        "        current_label = self.graph.nodes[current_node][\"label\"]\n",
        "        for label in self.labels:\n",
        "            scores[label] = self.label_evaluation(current_node, label)\n",
        "        highest_score_label = max(scores, key=scores.get)\n",
        "        self.graph.nodes[current_node][\"label\"] = highest_score_label\n",
        "        used = [self.graph.nodes[node][\"label\"] for node in self.graph.nodes]\n",
        "        if current_label not in used:\n",
        "            self.labels.remove(current_label)\n",
        "\n",
        "    \"\"\"\n",
        "    Function that calculates the current modularity of the network\n",
        "    \"\"\"\n",
        "\n",
        "    def modularity(self):\n",
        "        B = nx.modularity_matrix(self.graph)\n",
        "        m = self.graph.number_of_edges()\n",
        "        Q = 0\n",
        "        for i, nu in enumerate(self.graph.nodes):\n",
        "            for j, nv in enumerate(self.graph.nodes):\n",
        "                if self.graph.nodes[nu][\"label\"] == self.graph.nodes[nv][\"label\"]:\n",
        "                    Q += B.item(i, j)\n",
        "        return Q / (2 * m)\n",
        "\n",
        "    \"\"\"\n",
        "    Function that applies the LPAm algorithm on the network\n",
        "    \"\"\"\n",
        "\n",
        "    def LPAm(self):\n",
        "        current = self.modularity()\n",
        "        best = float(\"-inf\")\n",
        "        while best < current:\n",
        "            for node in self.graph.nodes:\n",
        "                self.update_label(node)\n",
        "            best = current\n",
        "            current = self.modularity()\n",
        "\n",
        "    \"\"\"\n",
        "    Function that find which communities to combine and combine them\n",
        "    \"\"\"\n",
        "\n",
        "    def merge_communities(self):\n",
        "        import itertools\n",
        "\n",
        "        should_merge = False\n",
        "        cm = self.modularity()\n",
        "        starting_graph = self.graph.copy()\n",
        "        best = None\n",
        "        combs = itertools.combinations(self.labels, 2)\n",
        "\n",
        "        def swap_labels(n, c):\n",
        "            label = self.graph.nodes[n][\"label\"]\n",
        "            if label == c[0]:\n",
        "                self.graph.nodes[n][\"label\"] = c[1]\n",
        "\n",
        "        nodes = self.graph.nodes\n",
        "        for combination in combs:\n",
        "            for node in nodes:\n",
        "                swap_labels(node, combination)\n",
        "            m = self.modularity()\n",
        "            if cm < m:\n",
        "                cm = m\n",
        "                best = combination\n",
        "                should_merge = True\n",
        "            self.graph = starting_graph.copy()\n",
        "\n",
        "        if best is not None:\n",
        "            for node in self.graph.nodes:\n",
        "                swap_labels(node, best)\n",
        "            self.labels.remove(best[0])\n",
        "            return should_merge\n",
        "\n",
        "        return False\n",
        "\n",
        "    \"\"\"\n",
        "    Function that applies the LPAm+ algorithm on the network\n",
        "    \"\"\"\n",
        "\n",
        "    def find_communities(self):\n",
        "        # TODO\n",
        "        self.LPAm()\n",
        "        while self.merge_communities():\n",
        "            self.LPAm()\n"
      ]
    },
    {
      "cell_type": "markdown",
      "metadata": {
        "id": "Yv83c1sWXGzq"
      },
      "source": [
        "### 1.1 Dataset (1 point)\n",
        "\n",
        "Nous vous avons fourni les CSV pour toutes les saisons de Games of Thrones. Vous devez maintenant représenter ces réseaux en utilisant les deux CSV fournis pour chaque saison: un pour les sommets et un pour les arêtes. \n",
        "\n",
        "#### Implémentation\n",
        "1. Implémentez  la fonction *`load_unweighted_network`*. Cette fonction retourne le réseau non dirigé et sans poids.\n",
        "\n",
        "Utilisez la fonction `test_load` pour vérifier votre implémentation de la fonction. Ce test utilise un petit toy dataset. Vous devriez avoir quelque chose de similaire (data/picture.png):\n",
        "![title](data/picture.png)\n",
        "\n",
        "---\n",
        "\n",
        "We have provided you with the csv for all the seasons of Games of Thrones. You must now represent each of those networks in code using two csv for each season: the one for the nodes and the one for the edges.\n",
        "\n",
        "#### Implementation\n",
        "1. Implement the function *`load_unweighted_network`*. This function returns a undirected and unweighted graph.\n",
        "\n",
        "Use the function `test_load` to verify your implementation of the function. This test use a toy dataset. You should obtain a result similar to this (data/picture.png):\n",
        "![title](data/picture.png)"
      ]
    },
    {
      "cell_type": "code",
      "execution_count": 303,
      "metadata": {
        "id": "1wGC7MC3Srh-"
      },
      "outputs": [],
      "source": [
        "import csv\n",
        "import pandas as pd\n",
        "import networkx as nx\n",
        "\n",
        "def load_unweighted_network(node_csv, edge_csv):\n",
        "    #TODO\n",
        "    dfn, dfe = pd.read_csv(node_csv), pd.read_csv(edge_csv)\n",
        "    network = nx.Graph()\n",
        "    network.add_nodes_from([(row[1][0], {\"Name\":row[1][1], \"Community\":row[1][2]}) for row in dfn.iterrows()])\n",
        "    network.add_edges_from(zip(dfe.Source, dfe.Target))\n",
        "    return network"
      ]
    },
    {
      "cell_type": "code",
      "execution_count": 304,
      "metadata": {
        "id": "HEwBsNVsjvfs"
      },
      "outputs": [
        {
          "data": {
            "image/png": "[encoded data removed]",
            "text/plain": [
              "<Figure size 640x480 with 1 Axes>"
            ]
          },
          "metadata": {},
          "output_type": "display_data"
        }
      ],
      "source": [
        "import matplotlib.pyplot as plt\n",
        "def test_load():\n",
        "    network = load_unweighted_network(\"data/toy-nodes.csv\", \"data/toy-edges.csv\")\n",
        "    nx.draw_networkx(network,font_color='white')\n",
        "    plt.show()\n",
        "\n",
        "test_load()"
      ]
    },
    {
      "cell_type": "markdown",
      "metadata": {
        "id": "6UTIxaGIXGzz"
      },
      "source": [
        "### 1.2  Modularité / Modularity (2 point)\n",
        "\n",
        "La modularité $Q$ du réseau est une mesure importante pour l'algorithme: elle permet de savoir si l'algorithme a atteint un optimum local. $$ Q=\\frac{1}{2m}\\sum_{u,v=1}^n B_{uv}\\delta(l_u,l_v)$$ \n",
        "\n",
        "- m: le nombre d'arêtes\n",
        "- l: l'étiquette du sommet\n",
        "- u, v: des sommets dans le réseau\n",
        "- B: la matrice de modularité où chaque élément vaut $A_{uv} - P_{uv}$\n",
        "- $A_{uv}$: vaut 1 si il y une arête entre u et v sinon 0\n",
        "- $P_{uv}$: la probabilité qu'il y ait une arête entre u et v selon le modèle nul  $$P_{uv}=\\frac{degree(u)*degree(v)}{2m}$$\n",
        "- $\\delta(l_u,l_v)$: delta de Kronecker, vaut 1 si les deux labels sont identiques sinon 0\n",
        "\n",
        "#### Implémentation\n",
        "1. Implémentez  la fonction  `modularity`  dans LPAmPlus. Cette fonction retourne la modularité du réseau. Vous pouvez utiliser la fonction `nx.linalg.modularity_matrix` de networkx pour calculer la matrice B. **N.B:** Networkx permet d'ajouter du data sur les sommets pour garder des informations sur le node. Les nodes agissent comme des dictionnaires.\n",
        "\n",
        "Utilisez la fonction `test_modularity` pour vérifier votre implémentation de la fonction. Vous devriez obtenir une modularité d'environ 0.413.\n",
        "\n",
        "---\n",
        "\n",
        "The modularity $Q$ of the network is an important measure for the algorithm. The algorithm uses it to determine if it reached a local optimum or not. $$ Q=\\frac{1}{2m}\\sum_{u,v=1}^n B_{uv}\\delta(l_u,l_v)$$ \n",
        "\n",
        "- m: number of edges\n",
        "- l: node's label\n",
        "- u, v: nodes in the graph\n",
        "- B: modularity matrix where each element is $A_{uv} - P_{uv}$\n",
        "- $A_{uv}$: is 1 if there is an edge between u and v else 0\n",
        "- $P_{uv}$: probability that there is an edge between u and v following the null model $$P_{uv}=\\frac{degree(u)*degree(v)}{2m}$$\n",
        "- $\\delta(l_u,l_v)$: Kronecker's delta, is 1 if labels are the same else 0\n",
        "\n",
        "#### Implementation\n",
        "1. Implement the function `modularity` in the class LPAmPlus. This function returns the modularity of the network. You can use the function `nx.linalg.modularity_matrix` from networkx to calculate B. **N.B:** You can add data to nodes with Networkx to store information about the node. You can add data to nodes with Networkx to store information about the node. The nodes act like a dictionnary.\n",
        "\n",
        "Use the function `test_modularity` to test your implementation. You should have a modularity of 0.413."
      ]
    },
    {
      "cell_type": "code",
      "execution_count": 341,
      "metadata": {
        "id": "B7szMoEQSriF"
      },
      "outputs": [
        {
          "name": "stdout",
          "output_type": "stream",
          "text": [
            "Modularity: 0.413\n"
          ]
        },
        {
          "name": "stderr",
          "output_type": "stream",
          "text": [
            "<class 'networkx.utils.decorators.argmap'> compilation 13:5: FutureWarning: modularity_matrix will return a numpy array instead of a matrix in NetworkX 3.0.\n",
            "  import itertools\n"
          ]
        }
      ],
      "source": [
        "def test_modularity():\n",
        "    social_network = load_unweighted_network(root+\"data/toy-nodes.csv\", root+\"data/toy-edges.csv\")\n",
        "    lpam = LPAmPlus(social_network)\n",
        "    lpam.labels = [0, 1]\n",
        "    for i in range(0, 16):\n",
        "        lpam.graph.nodes[i]['label'] = 0 if i < 10 else 1\n",
        "    print(\"Modularity: {:.3f}\".format(lpam.modularity()))\n",
        "\n",
        "test_modularity()"
      ]
    },
    {
      "cell_type": "markdown",
      "metadata": {
        "id": "vwxvqYj4XGzu"
      },
      "source": [
        "### 1.3 Règle de modification des étiquettes / Updating rule for the labels (3 point)\n",
        "\n",
        "Comme mentionné plus haut, l'algorithme est fortement basé sur son optimisation de la modularité. Il vous est maintenant demandé d'implémenter le terme à optimiser. La nouvelle étiquette $l_x^{new}$ correspond à l'étiquette pour laquelle la somme donne la plus grande valeur.\n",
        "$$l_x^{new}=\\arg\\max_l\\sum_{u=1}^n B_{ux}\\delta(l_u,l)$$\n",
        "\n",
        "- n: le nombre de sommets\n",
        "- m: le nombre d'arêtes\n",
        "- l: une étiquette possible pour le sommet x\n",
        "- x: le sommet qu'on évalue en ce moment\n",
        "- u: un autre sommet dans le réseau (commence à 1, car on exclut le sommet x)\n",
        "- B: la matrice de modularité où chaque élément vaut $A_{ux} - P_{ux}$\n",
        "- $A_{ux}$: vaut 1 si il y une arête entre u et x sinon 0\n",
        "- $P_{ux}$: la probabilité qu'il y ait une arête entre u et x selon le modèle nul  $$P_{ux}=\\frac{degree(u)*degree(x)}{2m}$$\n",
        "- $\\delta(l_u,l)$: delta de Kronecker, vaut 1 si les deux labels sont identiques sinon 0\n",
        "\n",
        "\n",
        "#### Implémentation\n",
        "1. Implémenter la fonction `label_evaluation`. Cette fonction retourne la valeur du terme à optimiser. Vous pouvez utiliser la fonction `linalg.modularity_matrix` de networkx pour calculer la matrice B. Il est normal qu'il y ait une ressemblance avec le calcul de la modularité selon la définition que vous avez prise. `new_label` correspond donc à un $l$ possible dans le terme.\n",
        "2. Implémenter la fonction `update_label`. Cette fonction choisit la nouvelle étiquette pour le sommet actuel. En cas d'égalité, la fonction choisit une étiquette au hasard parmi les meilleurs. N'oubliez pas d'enlever les étiquettes désuètes du paramètre `labels`. **N.B:** Il est possible que la meilleure étiquette soit celle actuelle du sommet.\n",
        "\n",
        "Networkx permet d'ajouter du data sur les sommets. Les sommets sont des dictionnaires dans le graphe.\n",
        "\n",
        "---\n",
        "\n",
        "As mentioned above, the algorithm is strongly based on its optimization of modularity. You are now asked to implement the term to optimize. The new label $l_x^{new}$ corresponds to the label for which the sum gives the greatest value.\n",
        "$$l_x^{new}=\\arg\\max_l\\sum_{u=1}^n B_{ux}\\delta(l_u,l)$$\n",
        "\n",
        "- n: number of nodes\n",
        "- m: number of edges\n",
        "- l: a possible label for the node x\n",
        "- x: current node being evaluated\n",
        "- u: another node in the network (starts at 1, because we exclude the node x)\n",
        "- B: modularity matrix where each element is $A_{ux} - P_{ux}$\n",
        "- $A_{ux}$: is 1 if there is an edge between u and x else 0\n",
        "- $P_{ux}$: the probability that there is an edge between u and x  following the null model  $$P_{ux}=\\frac{degree(u)*degree(x)}{2m}$$\n",
        "- $\\delta(l_u,l)$: Kronecker's delta, is 1 if labels are the same else 0\n",
        "\n",
        "\n",
        "#### Implementation\n",
        "1. Implement the function `label_evaluation`. This function returns the value for the term to optimize. You can use the function `linalg.modularity_matrix` from networkx to calculate B. It is normal if there is a similarity with the modularity depending on the definition you took. `new_label` represent a possible $l$ in the term.\n",
        "2. Implement the function `update_label`. This function chooses the new label for the current node. If there is more than one label with the max value, the function chooses randomly one amoung those. Don't forget to remove the unused labels from the `labels` attribute. **N.B:** The best label can be the node's current label. \n",
        "\n",
        "You can add data to nodes with Networkx to store information about the node. The nodes act like a dictionnary.\n",
        "\n"
      ]
    },
    {
      "cell_type": "markdown",
      "metadata": {
        "id": "g5_N31uPXGz2"
      },
      "source": [
        "### 1.4 LPAm (2 points)\n",
        "\n",
        "Vous pouvez maintenant implémenter l'algorithme LPAm. Cet algorithme est le prédécesseur de LPAm+ puisque LPAm+ a été crée pour contourner une faiblesse de LPAm.  LPAm est un algorithme de propapagation d'étiquettes basé sur la modularité. Il commence par donner une étiquette unique à chaque sommet. Il explore par la suite tous les sommets et change leur étiquette selon la fonction d'évaluation que vous avez implémentée plus tôt. L'algorithme continue la propagation d'étiquette à travers tous les sommets jusqu'à un optimun de la modularité.\n",
        "\n",
        "#### Implémentation\n",
        "1. Ajouter les étiquettes initiales aux sommets du graphe dans la fonction `__init__`. Il faut que chaque sommet soit dans sa propre communauté au début de l'algorithme. Initialiser le paramètre `labels` pour qu'il contient la liste des étiquettes présentes dans le réseau.\n",
        "\n",
        "2. Implémenter l'algorithme LPAm dans la fonction `LPAm`. Assurez-vous de toujours augmenter la modularité lors de vos changements d'étiquettes. N'oubliez pas de garder le paramètre `labels` à jour à fur et à mesure lors de vos changements pour ne pas évaluer plusieurs fois la même étiquette.\n",
        "\n",
        "Utilisez la fonction `test_lpam` pour vérifier votre implémentation. Vous devriez finir avec une modularité d'environ 0.399 avec 4 communautés.\n",
        "\n",
        "---\n",
        "\n",
        "You can now implement the LPAm algorithm. This algorithm is the predecessor of LPAm+ since LPAm+ was created to overcome LPAm's weakness. LPAm is a label probagation algorithm based on modularity. It begins by giving a unique label to each node. It then explores all the nodes and changes their label according to the evaluation function that you implemented earlier. The algorithm continues until it can no longer improve the modularity of the network.\n",
        "\n",
        "#### Implementation\n",
        "1. Add the initial labels to the nodes in the graph in the function `__init__`. Each nodes has to be in their own community in the beginning. Initialise `labels` with the current list of labels present in the graph.\n",
        "\n",
        "2. Implement the LPAm algorithm in the function`LPAm`. Make sure that all your labels changes improve the modularity. Don't forget to keep your `labels` parameter is kept up-to-date so that you dont evaluate the same label multiple times or unused labels.\n",
        "\n",
        "Use the function `test_lpam` to verify your implementation. You should have a modularity of 0.399 with 4 communities."
      ]
    },
    {
      "cell_type": "code",
      "execution_count": 440,
      "metadata": {
        "id": "O2RfrO6PSriL"
      },
      "outputs": [
        {
          "name": "stdout",
          "output_type": "stream",
          "text": [
            "Modularity: 0.399\n",
            "Communities: [3, 5, 8, 11]\n"
          ]
        },
        {
          "name": "stderr",
          "output_type": "stream",
          "text": [
            "<class 'networkx.utils.decorators.argmap'> compilation 13:5: FutureWarning: modularity_matrix will return a numpy array instead of a matrix in NetworkX 3.0.\n",
            "  import itertools\n"
          ]
        }
      ],
      "source": [
        "def test_lpam():\n",
        "    social_network = load_unweighted_network(root+\"data/toy-nodes.csv\", root+\"data/toy-edges.csv\")\n",
        "    lpam = LPAmPlus(social_network)\n",
        "    lpam.LPAm()\n",
        "    print(\"Modularity: {:.3f}\\nCommunities: {}\".format(lpam.modularity(), lpam.labels))\n",
        "\n",
        "test_lpam()"
      ]
    },
    {
      "cell_type": "markdown",
      "metadata": {
        "id": "cj5Ghd5jXGz6"
      },
      "source": [
        "### 1.5 LPAm+ (3 point)\n",
        "\n",
        "Vous pouvez maintenant implémenter LPAm+ au complet. LPAm+ est une amélioration de LPAm. Lorsque LPAm tombe dans un optimum local, LPAm+ essaye de combiner deux communautés pour augmenter la modularité et ainsi sortir du optimum local. LPAm+ choisit la combinaison qui augmente le plus la modularité et recommence la propagation d'étiquette jusqu'au prochain optimum local où il va reessayer de combiner des communautés. L'algorithme continue jusqu'à qu'il ne peut plus augmenter la modularité.\n",
        "\n",
        "#### Implémentation\n",
        "1. Implémentez  la fonction  `merge_communities`. Cette fonction regarde si combiner des communautés augmente la modularité et combine le meilleur choix. Elle retourne True si une combinaison a été faite sinon False (aucune combinaison augmente la modularité).\n",
        "2. Implémenter `find_communities`. Cette fonction applique l'algorithme LPAm+ sur le réseau en utilisant les fonctions `LPAm` et `merge_communities`.\n",
        "\n",
        "Utilisez la fonction `test_lpam_plus` pour vérifier votre implémentation. Vous devriez finir avec une modularité d'environ 0.413 et 2 communautés.\n",
        "\n",
        "---\n",
        "\n",
        "You can now fully implement LPAm+. As said before LPAm+ is an amelioration of LPAm. The issue with LPAm is that it stops when it finds a local optimun. To prevent that, LPAm+ tries to combine two communities to increase modularity and escape the local optimun. LPAm+ chooses the combination that most increases modularity and restart the label's propagation until the next local optimum where it will try to combine two communities again. The algorithm continues until it can no longer increase modularity.\n",
        "\n",
        "#### Implementation\n",
        "1. Implement the function  `merge_communities`. This function check if combining communities improve the modularity and combine the best choice. It returns True if a combinaison was made else False (no combination increase the modularity).\n",
        "2. Implement the LPAM+ algorithm in the function `find_communities` using the fonctions `LPam` and `merge_communities`.\n",
        "\n",
        "Use the function `test_lpam_plus` to verify your implementation. You should end with a modularity of 0.413 and 2 communities."
      ]
    },
    {
      "cell_type": "code",
      "execution_count": 441,
      "metadata": {
        "id": "eVSnUWQoSriP"
      },
      "outputs": [
        {
          "name": "stdout",
          "output_type": "stream",
          "text": [
            "Modularity: 0.413\n",
            "Communities: [8, 11]\n"
          ]
        },
        {
          "name": "stderr",
          "output_type": "stream",
          "text": [
            "<class 'networkx.utils.decorators.argmap'> compilation 13:5: FutureWarning: modularity_matrix will return a numpy array instead of a matrix in NetworkX 3.0.\n",
            "  import itertools\n"
          ]
        }
      ],
      "source": [
        "def test_lpam_plus():\n",
        "    social_network = load_unweighted_network(root+\"data/toy-nodes.csv\", root+\"data/toy-edges.csv\")\n",
        "    lpam = LPAmPlus(social_network)\n",
        "    lpam.find_communities()\n",
        "    print(\"Modularity: {:.3f}\\nCommunities: {}\".format(lpam.modularity(), lpam.labels))\n",
        "\n",
        "test_lpam_plus()"
      ]
    },
    {
      "cell_type": "markdown",
      "metadata": {
        "id": "vODCJbRaXGz-"
      },
      "source": [
        "### 1.6 GOT dataset (3 points)\n",
        "\n",
        "Rouler votre algorithme sur les données de Games of Thrones de chaque saison et comparer ce que vous obtenez et les vraies communautés. Le ground truth se trouve dans la colonne Community des csv. Des liens sont présents entre des personnages lorsque: \n",
        "- Personnage A parle directement après Personnage B\n",
        "- Personnage A parle de Personnage B\n",
        "- Personnage C parle de Personnage A et Personnage B\n",
        "- Personnage A et Personnage B font une action ensemble dans une scène (ex: quittent les lieux, A regarde B, sont assis à une table, etc)\n",
        "- Personnage A et Personnage B apparaissent ensemble dans une scène\n",
        "\n",
        "Commencez par calculer le RI (Rand index) de vos résultats. $$ RI=\\frac{TP+TN}{TP+TN+FP+FN} = \\frac{TP+TN}{\\binom{n}{2}}$$\n",
        "\n",
        "- n: le nombre de sommets\n",
        "- TP: True positive soit le nombre de paires d'éléments qui se trouvent dans la même communauté dans vos résultats et dans le ground truth\n",
        "- TN: True négative soit le nombre de paires d'éléments qui se trouvent dans des communautés différentes dans vos résultats et dans le ground truth\n",
        "- FP: False positive soit le nombre de paires d'éléments qui se trouvent dans la même communauté dans vos résultats mais qui sont dans des communautés différentes dans le ground truth\n",
        "- FN: False négative soit le nombre de paires d'éléments qui se trouvent dans des communautés différentes alors qu'ils sont dans la même communauté dans le ground truth\n",
        "\n",
        "\n",
        "**N.B**: Ce n'est pas le nom des communautés que vous avez trouvé qui importante mais leur composition. Autrement dit, un TP est si le sommet a et le sommet b se trouve dans la même communauté dans vos résultats et dans le ground truth.\n",
        "\n",
        "\n",
        "Répondez aux questions suivantes. Elles servent comme piste de réflexion pour votre analyse.\n",
        "\n",
        "- L'algorithme performe-t-il bien sur toutes les saisons ou pour certaines seulement? \n",
        "- Expliquez pourquoi vous avez obtenu ces résultats en analysant la formation des communautés dans chaque saison. Quelles particularités favorisent des bons résultats? Quelles particularités nuisent à l'algorithme?\n",
        "\n",
        "Vous pouvez faire les manipulations que vous voulez pour mieux présenter vos résultats et mieux appuyer vos affirmations. \n",
        "\n",
        "---\n",
        "\n",
        "Run your algorithm over the Games of Thrones data from each season and compare what you get and the real communities. The ground truth is found in the Community column in the csv. Links are found between characters A and B when:\n",
        "- Character A talks directly after Character B\n",
        "- Character A talks about Character B\n",
        "- Character C talks about Character B and A\n",
        "- Character A and Character B does an action together in a scene (ex: leave the room, A looks toward B, are seated together at a table, etc)\n",
        "- Character A and Character B are both present in a scene\n",
        "\n",
        "Start by calculating the RI (Rand index) of your results. $$ RI=\\frac{TP+TN}{TP+TN+FP+FN} = \\frac{TP+TN}{\\binom{n}{2}}$$\n",
        "\n",
        "- n: number of nodes\n",
        "- TP: True positive the number of pairs of elements that are in the same community in your results and in the ground truth\n",
        "- TN: True negative the number of pairs of elements that are in different communities in your results and in the ground truth\n",
        "- FP: False positive the number of pairs of elements which are in the same community in your results but which are in different communities in the ground truth\n",
        "- FN: False negative the number of pairs of elements which are in different communities in your results but which are in the same community in the ground truth\n",
        "\n",
        "**N.B:** What matters here is the composition of the communities you found not the names. A TP is when the node a and the node b are both in the same communities in your result and in the ground truth.\n",
        "\n",
        "Answer the following questions. They are guides for your analysis.\n",
        "\n",
        "- Does the algorithm perform well on all seasons or for some only? \n",
        "- Explain why you obtained those results by analysing the communities from each season. Which particularities offer better results? Which hinder the algorithm?\n",
        "\n",
        "You can do the manipulations you want to better present your results and better support your statements."
      ]
    },
    {
      "cell_type": "markdown",
      "metadata": {
        "id": "ZzndRBWVSriT"
      },
      "source": [
        "#### Résultats / Results"
      ]
    },
    {
      "cell_type": "code",
      "execution_count": null,
      "metadata": {},
      "outputs": [],
      "source": [
        "from itertools import combinations\n",
        "import matplotlib.pyplot as plt\n",
        "import random\n",
        "\n",
        "r = lambda: random.randint(0,255)\n",
        "\n",
        "def compute_RI(lpp):\n",
        "    TP, TN, FP, FN = 0, 0, 0, 0\n",
        "    nodes = lpp.graph.nodes\n",
        "    combs = combinations(nodes, 2)\n",
        "    for combination in combs:\n",
        "        l1 = nodes[combination[0]][\"Community\"]\n",
        "        l2 = nodes[combination[1]][\"Community\"]\n",
        "        l3 = nodes[combination[0]][\"label\"]\n",
        "        l4 = nodes[combination[1]][\"label\"]\n",
        "        if l1 == l2 and l3 == l4:\n",
        "            TP += 1\n",
        "        elif l1 == l2 and l3 != l4:\n",
        "            FN += 1\n",
        "        elif l1 != l2 and l3 == l4:\n",
        "            FP += 1\n",
        "        else:\n",
        "            TN += 1\n",
        "    return (TP+TN)/(TP+TN+FP+FN)\n",
        "\n",
        "\n",
        "def draw_plot(lpp, network):\n",
        "    plt.figure(figsize=(30,15))\n",
        "    N = len(lpp.labels)\n",
        "    colors = ['#%02X%02X%02X' % (r(),r(),r()) for _ in range(N)]\n",
        "    node_colors = []\n",
        "    tmp = dict()\n",
        "    for node in lpp.graph.nodes:\n",
        "        if lpp.graph.nodes[node]['label'] not in tmp:\n",
        "            tmp[lpp.graph.nodes[node]['label']] = colors.pop()\n",
        "        node_colors.append(tmp[lpp.graph.nodes[node]['label']])\n",
        "\n",
        "    nx.draw_networkx(network, node_color=node_colors, node_size=300, font_size=12)\n",
        "    "
      ]
    },
    {
      "cell_type": "code",
      "execution_count": 448,
      "metadata": {},
      "outputs": [
        {
          "name": "stdout",
          "output_type": "stream",
          "text": [
            "SEASON 1\n"
          ]
        },
        {
          "name": "stderr",
          "output_type": "stream",
          "text": [
            "<class 'networkx.utils.decorators.argmap'> compilation 13:5: FutureWarning: modularity_matrix will return a numpy array instead of a matrix in NetworkX 3.0.\n",
            "  import itertools\n"
          ]
        },
        {
          "ename": "KeyboardInterrupt",
          "evalue": "",
          "output_type": "error",
          "traceback": [
            "\u001b[1;31m---------------------------------------------------------------------------\u001b[0m",
            "\u001b[1;31mKeyboardInterrupt\u001b[0m                         Traceback (most recent call last)",
            "Cell \u001b[1;32mIn [448], line 6\u001b[0m\n\u001b[0;32m      4\u001b[0m network \u001b[39m=\u001b[39m load_unweighted_network(\u001b[39mf\u001b[39m\u001b[39m\"\u001b[39m\u001b[39mdata/got-s\u001b[39m\u001b[39m{\u001b[39;00mi\u001b[39m}\u001b[39;00m\u001b[39m-nodes.csv\u001b[39m\u001b[39m\"\u001b[39m, \u001b[39mf\u001b[39m\u001b[39m\"\u001b[39m\u001b[39mdata/got-s\u001b[39m\u001b[39m{\u001b[39;00mi\u001b[39m}\u001b[39;00m\u001b[39m-edges.csv\u001b[39m\u001b[39m\"\u001b[39m)\n\u001b[0;32m      5\u001b[0m lpp \u001b[39m=\u001b[39m LPAmPlus(network)\n\u001b[1;32m----> 6\u001b[0m lpp\u001b[39m.\u001b[39;49mfind_communities()\n\u001b[0;32m      7\u001b[0m RI \u001b[39m=\u001b[39m compute_RI(lpp)\n\u001b[0;32m      8\u001b[0m modularity \u001b[39m=\u001b[39m lpp\u001b[39m.\u001b[39mmodularity()\n",
            "Cell \u001b[1;32mIn [442], line 121\u001b[0m, in \u001b[0;36mLPAmPlus.find_communities\u001b[1;34m(self)\u001b[0m\n\u001b[0;32m    119\u001b[0m \u001b[39mdef\u001b[39;00m \u001b[39mfind_communities\u001b[39m(\u001b[39mself\u001b[39m):\n\u001b[0;32m    120\u001b[0m     \u001b[39m# TODO\u001b[39;00m\n\u001b[1;32m--> 121\u001b[0m     \u001b[39mself\u001b[39;49m\u001b[39m.\u001b[39;49mLPAm()\n\u001b[0;32m    122\u001b[0m     \u001b[39mwhile\u001b[39;00m \u001b[39mself\u001b[39m\u001b[39m.\u001b[39mmerge_communities():\n\u001b[0;32m    123\u001b[0m         \u001b[39mself\u001b[39m\u001b[39m.\u001b[39mLPAm()\n",
            "Cell \u001b[1;32mIn [442], line 74\u001b[0m, in \u001b[0;36mLPAmPlus.LPAm\u001b[1;34m(self)\u001b[0m\n\u001b[0;32m     72\u001b[0m \u001b[39mwhile\u001b[39;00m best \u001b[39m<\u001b[39m current:\n\u001b[0;32m     73\u001b[0m     \u001b[39mfor\u001b[39;00m node \u001b[39min\u001b[39;00m \u001b[39mself\u001b[39m\u001b[39m.\u001b[39mgraph\u001b[39m.\u001b[39mnodes:\n\u001b[1;32m---> 74\u001b[0m         \u001b[39mself\u001b[39;49m\u001b[39m.\u001b[39;49mupdate_label(node)\n\u001b[0;32m     75\u001b[0m     best \u001b[39m=\u001b[39m current\n\u001b[0;32m     76\u001b[0m     current \u001b[39m=\u001b[39m \u001b[39mself\u001b[39m\u001b[39m.\u001b[39mmodularity()\n",
            "Cell \u001b[1;32mIn [442], line 44\u001b[0m, in \u001b[0;36mLPAmPlus.update_label\u001b[1;34m(self, current_node)\u001b[0m\n\u001b[0;32m     42\u001b[0m current_label \u001b[39m=\u001b[39m \u001b[39mself\u001b[39m\u001b[39m.\u001b[39mgraph\u001b[39m.\u001b[39mnodes[current_node][\u001b[39m\"\u001b[39m\u001b[39mlabel\u001b[39m\u001b[39m\"\u001b[39m]\n\u001b[0;32m     43\u001b[0m \u001b[39mfor\u001b[39;00m label \u001b[39min\u001b[39;00m \u001b[39mself\u001b[39m\u001b[39m.\u001b[39mlabels:\n\u001b[1;32m---> 44\u001b[0m     scores[label] \u001b[39m=\u001b[39m \u001b[39mself\u001b[39;49m\u001b[39m.\u001b[39;49mlabel_evaluation(current_node, label)\n\u001b[0;32m     45\u001b[0m highest_score_label \u001b[39m=\u001b[39m \u001b[39mmax\u001b[39m(scores, key\u001b[39m=\u001b[39mscores\u001b[39m.\u001b[39mget)\n\u001b[0;32m     46\u001b[0m \u001b[39mself\u001b[39m\u001b[39m.\u001b[39mgraph\u001b[39m.\u001b[39mnodes[current_node][\u001b[39m\"\u001b[39m\u001b[39mlabel\u001b[39m\u001b[39m\"\u001b[39m] \u001b[39m=\u001b[39m highest_score_label\n",
            "Cell \u001b[1;32mIn [442], line 29\u001b[0m, in \u001b[0;36mLPAmPlus.label_evaluation\u001b[1;34m(self, current_node, new_label)\u001b[0m\n\u001b[0;32m     27\u001b[0m \u001b[39mdef\u001b[39;00m \u001b[39mlabel_evaluation\u001b[39m(\u001b[39mself\u001b[39m, current_node, new_label):\n\u001b[0;32m     28\u001b[0m     res \u001b[39m=\u001b[39m \u001b[39m0\u001b[39m\n\u001b[1;32m---> 29\u001b[0m     B \u001b[39m=\u001b[39m nx\u001b[39m.\u001b[39;49mmodularity_matrix(\u001b[39mself\u001b[39;49m\u001b[39m.\u001b[39;49mgraph)\n\u001b[0;32m     30\u001b[0m     current_node_index \u001b[39m=\u001b[39m \u001b[39mlist\u001b[39m(\u001b[39mself\u001b[39m\u001b[39m.\u001b[39mgraph\u001b[39m.\u001b[39mnodes)\u001b[39m.\u001b[39mindex(current_node)\n\u001b[0;32m     31\u001b[0m     \u001b[39mfor\u001b[39;00m i, n \u001b[39min\u001b[39;00m \u001b[39menumerate\u001b[39m(\u001b[39mself\u001b[39m\u001b[39m.\u001b[39mgraph\u001b[39m.\u001b[39mnodes):\n",
            "File \u001b[1;32m<class 'networkx.utils.decorators.argmap'> compilation 13:5\u001b[0m, in \u001b[0;36margmap_modularity_matrix_9\u001b[1;34m(G, nodelist, weight)\u001b[0m\n\u001b[0;32m      3\u001b[0m \u001b[39mimport\u001b[39;00m \u001b[39mgzip\u001b[39;00m\n\u001b[0;32m      4\u001b[0m \u001b[39mimport\u001b[39;00m \u001b[39minspect\u001b[39;00m\n\u001b[1;32m----> 5\u001b[0m \u001b[39mimport\u001b[39;00m \u001b[39mitertools\u001b[39;00m\n\u001b[0;32m      6\u001b[0m \u001b[39mimport\u001b[39;00m \u001b[39mre\u001b[39;00m\n\u001b[0;32m      7\u001b[0m \u001b[39mfrom\u001b[39;00m \u001b[39mcollections\u001b[39;00m \u001b[39mimport\u001b[39;00m defaultdict\n",
            "File \u001b[1;32mc:\\Users\\nawra\\Documents\\GitHub\\INF8111\\TP3\\venv\\lib\\site-packages\\networkx\\linalg\\modularitymatrix.py:68\u001b[0m, in \u001b[0;36mmodularity_matrix\u001b[1;34m(G, nodelist, weight)\u001b[0m\n\u001b[0;32m     66\u001b[0m \u001b[39mif\u001b[39;00m nodelist \u001b[39mis\u001b[39;00m \u001b[39mNone\u001b[39;00m:\n\u001b[0;32m     67\u001b[0m     nodelist \u001b[39m=\u001b[39m \u001b[39mlist\u001b[39m(G)\n\u001b[1;32m---> 68\u001b[0m A \u001b[39m=\u001b[39m nx\u001b[39m.\u001b[39;49mto_scipy_sparse_array(G, nodelist\u001b[39m=\u001b[39;49mnodelist, weight\u001b[39m=\u001b[39;49mweight, \u001b[39mformat\u001b[39;49m\u001b[39m=\u001b[39;49m\u001b[39m\"\u001b[39;49m\u001b[39mcsr\u001b[39;49m\u001b[39m\"\u001b[39;49m)\n\u001b[0;32m     69\u001b[0m k \u001b[39m=\u001b[39m A\u001b[39m.\u001b[39msum(axis\u001b[39m=\u001b[39m\u001b[39m1\u001b[39m)\n\u001b[0;32m     70\u001b[0m m \u001b[39m=\u001b[39m k\u001b[39m.\u001b[39msum() \u001b[39m*\u001b[39m \u001b[39m0.5\u001b[39m\n",
            "File \u001b[1;32mc:\\Users\\nawra\\Documents\\GitHub\\INF8111\\TP3\\venv\\lib\\site-packages\\networkx\\convert_matrix.py:925\u001b[0m, in \u001b[0;36mto_scipy_sparse_array\u001b[1;34m(G, nodelist, dtype, weight, format)\u001b[0m\n\u001b[0;32m    923\u001b[0m     A \u001b[39m=\u001b[39m sp\u001b[39m.\u001b[39msparse\u001b[39m.\u001b[39mcoo_array((d, (r, c)), shape\u001b[39m=\u001b[39m(nlen, nlen), dtype\u001b[39m=\u001b[39mdtype)\n\u001b[0;32m    924\u001b[0m \u001b[39mtry\u001b[39;00m:\n\u001b[1;32m--> 925\u001b[0m     \u001b[39mreturn\u001b[39;00m A\u001b[39m.\u001b[39;49masformat(\u001b[39mformat\u001b[39;49m)\n\u001b[0;32m    926\u001b[0m \u001b[39mexcept\u001b[39;00m \u001b[39mValueError\u001b[39;00m \u001b[39mas\u001b[39;00m err:\n\u001b[0;32m    927\u001b[0m     \u001b[39mraise\u001b[39;00m nx\u001b[39m.\u001b[39mNetworkXError(\u001b[39mf\u001b[39m\u001b[39m\"\u001b[39m\u001b[39mUnknown sparse matrix format: \u001b[39m\u001b[39m{\u001b[39;00m\u001b[39mformat\u001b[39m\u001b[39m}\u001b[39;00m\u001b[39m\"\u001b[39m) \u001b[39mfrom\u001b[39;00m \u001b[39merr\u001b[39;00m\n",
            "File \u001b[1;32mc:\\Users\\nawra\\Documents\\GitHub\\INF8111\\TP3\\venv\\lib\\site-packages\\scipy\\sparse\\_base.py:376\u001b[0m, in \u001b[0;36mspmatrix.asformat\u001b[1;34m(self, format, copy)\u001b[0m\n\u001b[0;32m    374\u001b[0m \u001b[39m# Forward the copy kwarg, if it's accepted.\u001b[39;00m\n\u001b[0;32m    375\u001b[0m \u001b[39mtry\u001b[39;00m:\n\u001b[1;32m--> 376\u001b[0m     \u001b[39mreturn\u001b[39;00m convert_method(copy\u001b[39m=\u001b[39;49mcopy)\n\u001b[0;32m    377\u001b[0m \u001b[39mexcept\u001b[39;00m \u001b[39mTypeError\u001b[39;00m:\n\u001b[0;32m    378\u001b[0m     \u001b[39mreturn\u001b[39;00m convert_method()\n",
            "File \u001b[1;32mc:\\Users\\nawra\\Documents\\GitHub\\INF8111\\TP3\\venv\\lib\\site-packages\\scipy\\sparse\\_coo.py:409\u001b[0m, in \u001b[0;36mcoo_matrix.tocsr\u001b[1;34m(self, copy)\u001b[0m\n\u001b[0;32m    407\u001b[0m x \u001b[39m=\u001b[39m \u001b[39mself\u001b[39m\u001b[39m.\u001b[39m_csr_container((data, indices, indptr), shape\u001b[39m=\u001b[39m\u001b[39mself\u001b[39m\u001b[39m.\u001b[39mshape)\n\u001b[0;32m    408\u001b[0m \u001b[39mif\u001b[39;00m \u001b[39mnot\u001b[39;00m \u001b[39mself\u001b[39m\u001b[39m.\u001b[39mhas_canonical_format:\n\u001b[1;32m--> 409\u001b[0m     x\u001b[39m.\u001b[39;49msum_duplicates()\n\u001b[0;32m    410\u001b[0m \u001b[39mreturn\u001b[39;00m x\n",
            "File \u001b[1;32mc:\\Users\\nawra\\Documents\\GitHub\\INF8111\\TP3\\venv\\lib\\site-packages\\scipy\\sparse\\_compressed.py:1118\u001b[0m, in \u001b[0;36m_cs_matrix.sum_duplicates\u001b[1;34m(self)\u001b[0m\n\u001b[0;32m   1116\u001b[0m \u001b[39mif\u001b[39;00m \u001b[39mself\u001b[39m\u001b[39m.\u001b[39mhas_canonical_format:\n\u001b[0;32m   1117\u001b[0m     \u001b[39mreturn\u001b[39;00m\n\u001b[1;32m-> 1118\u001b[0m \u001b[39mself\u001b[39;49m\u001b[39m.\u001b[39;49msort_indices()\n\u001b[0;32m   1120\u001b[0m M, N \u001b[39m=\u001b[39m \u001b[39mself\u001b[39m\u001b[39m.\u001b[39m_swap(\u001b[39mself\u001b[39m\u001b[39m.\u001b[39mshape)\n\u001b[0;32m   1121\u001b[0m _sparsetools\u001b[39m.\u001b[39mcsr_sum_duplicates(M, N, \u001b[39mself\u001b[39m\u001b[39m.\u001b[39mindptr, \u001b[39mself\u001b[39m\u001b[39m.\u001b[39mindices,\n\u001b[0;32m   1122\u001b[0m                                 \u001b[39mself\u001b[39m\u001b[39m.\u001b[39mdata)\n",
            "File \u001b[1;32mc:\\Users\\nawra\\Documents\\GitHub\\INF8111\\TP3\\venv\\lib\\site-packages\\scipy\\sparse\\_compressed.py:1164\u001b[0m, in \u001b[0;36m_cs_matrix.sort_indices\u001b[1;34m(self)\u001b[0m\n\u001b[0;32m   1160\u001b[0m \u001b[39m\"\"\"Sort the indices of this matrix *in place*\u001b[39;00m\n\u001b[0;32m   1161\u001b[0m \u001b[39m\"\"\"\u001b[39;00m\n\u001b[0;32m   1163\u001b[0m \u001b[39mif\u001b[39;00m \u001b[39mnot\u001b[39;00m \u001b[39mself\u001b[39m\u001b[39m.\u001b[39mhas_sorted_indices:\n\u001b[1;32m-> 1164\u001b[0m     _sparsetools\u001b[39m.\u001b[39;49mcsr_sort_indices(\u001b[39mlen\u001b[39;49m(\u001b[39mself\u001b[39;49m\u001b[39m.\u001b[39;49mindptr) \u001b[39m-\u001b[39;49m \u001b[39m1\u001b[39;49m, \u001b[39mself\u001b[39;49m\u001b[39m.\u001b[39;49mindptr,\n\u001b[0;32m   1165\u001b[0m                                   \u001b[39mself\u001b[39;49m\u001b[39m.\u001b[39;49mindices, \u001b[39mself\u001b[39;49m\u001b[39m.\u001b[39;49mdata)\n\u001b[0;32m   1166\u001b[0m     \u001b[39mself\u001b[39m\u001b[39m.\u001b[39mhas_sorted_indices \u001b[39m=\u001b[39m \u001b[39mTrue\u001b[39;00m\n",
            "\u001b[1;31mKeyboardInterrupt\u001b[0m: "
          ]
        }
      ],
      "source": [
        "\n",
        "\n",
        "num_of_seasons = 8\n",
        "for i in range(1, num_of_seasons + 1):\n",
        "    print(f\"SEASON {i}\")\n",
        "    network = load_unweighted_network(f\"data/got-s{i}-nodes.csv\", f\"data/got-s{i}-edges.csv\")\n",
        "    lpp = LPAmPlus(network)\n",
        "    lpp.find_communities()\n",
        "    RI = compute_RI(lpp)\n",
        "    modularity = lpp.modularity()\n",
        "    print(\"Modularity:\", modularity)\n",
        "    print(\"RI:\", RI)\n",
        "    draw_plot(lpp, network)\n",
        "    plt.show()\n",
        "\n"
      ]
    },
    {
      "cell_type": "markdown",
      "metadata": {
        "id": "u-HMg4sUSriX"
      },
      "source": [
        "#### Analyse / Analysis\n",
        "\n",
        "They should have good results for all seasons except s7 and s8. They should talk about the fact that in s8 almost all the characters belong in the same community and that makes it hard for the algorithm to detect that because the modularity of that kind of network would be very low. As for s7, the entire network is really connected to each other and thus it can be hard to divide correctly such small communities. As for the other season, they should talk about how the numbers of communities and their size (the more the communities are of the same size the higher the score should be) Also s2 and s6 have some disconnected communities that could help the algorithm to get those communtities correctly. They should also compare their end modularity results with the ARI results.\n"
      ]
    },
    {
      "cell_type": "markdown",
      "metadata": {
        "id": "r3FmllqgXG0d"
      },
      "source": [
        "# 2. Personnages influents dans GOT / Influent character in GOT (6 points)\n",
        "\n",
        "##  Analyse d'un réseau social \n",
        "Une autre analyse intéressante à faire avec un réseau social est de trouver les personnes influentes du réseau soit les personnes autour desquelles les gens du réseau se regroupent.\n",
        "\n",
        "Il existe des mesures qui permettent de connaître ces personnes: les mesures de centralité. **Vous devez implémenter les mesures vous-même et ne pas utilisez les implémentations de `networkx` de ces mesures.** Pour vous aider lors de l'implémentation de ses mesures, un deuxième toy dataset vous est fourni. Il ressemble à ceci (data/picture2.png):\n",
        "![title](data/picture2.png)\n",
        "\n",
        "## GOT datasets\n",
        "La série Games of Thrones est reconnue pour tuer ses personnages importants. Nous vous demandons de vérifier cette affirmation. Pour cette partie, vous devez utiliser tous les CSV donnés avec le TP (nodes, edges et deaths). Nous voulons que vous trouviez les personnages les plus influents de chaque saison et que vous les compariez avec la liste de personnages morts durant la saison.\n",
        "\n",
        "---\n",
        "\n",
        "##  Social network analysis\n",
        "\n",
        "Another interesting analysis to do with a social network is to find the influential people in the network, ie the people around whom the people in the network gather.\n",
        "\n",
        "There are measures which make it possible to know these people: the centrality measures. **You must implement those metrics yourselves. Do not use `networkx` implementation for the  tp.** To help you during the implementation of those measurements, a second toy dataset is provided to you. It looks like this (data/picture2.png): ![title](data/picture2.png)\n",
        "\n",
        "## GOT datasets\n",
        "The Games of Thrones series is known to kill its important characters. We ask you to verify this statement. For this part, you must use all the csv given with the TP (nodes, edges and deaths). We want you to find the most influential characters from each season and compare them with the list of dead characters during the season.\n"
      ]
    },
    {
      "cell_type": "markdown",
      "metadata": {
        "id": "uJxSGCnOXG0e"
      },
      "source": [
        "## 2.1 Centralité de degré / Degree centrality (1 point)\n",
        "\n",
        "Une première mesure simple pour trouver l'importance d'un sommet dans un réseau est la centralité de degré. Elle se calcule $$C_{D}(i) = \\frac{degree(i)}{n-1}$$\n",
        "\n",
        "- i: un sommet dans le réseau\n",
        "- n: le nombre de sommets\n",
        "- degree: le nombre d'arêtes attachées au sommet\n",
        "\n",
        "#### Implémentation\n",
        "1. Implémenter la fonction `calculate_degree_centrality`. Cette fonction calcule la centralité de degré pour tous les sommets du réseau et ajoute cette mesure à chaque sommet.\n",
        "\n",
        "Utilisez la fonction `test_degree_centrality` pour vérifier votre implémentation. Le sommet 1 devrait avoir la plus haute mesure de 0.4.\n",
        "\n",
        "---\n",
        "\n",
        "A first simple measure to find the importance of a node in a network is the degree centrality. It is calculated $$C_{D}(i) = \\frac{degree(i)}{n-1}$$\n",
        "\n",
        "- i: a node in the network\n",
        "- n: the number of nodes\n",
        "- degree: the number of edges attached to the node\n",
        "\n",
        "#### Implementation\n",
        "1. Implement the function `calculate_degree_centrality`. This function calculates degree centrality for all nodes in the network and adds this measurement to each node.\n",
        "\n",
        "Use the function `test_degree_centrality` to verify your implementation. The best node should be node 1 with 0.4."
      ]
    },
    {
      "cell_type": "code",
      "execution_count": null,
      "metadata": {
        "id": "vLTg0prlSriZ"
      },
      "outputs": [],
      "source": [
        "def calculate_degree_centrality(social_network):\n",
        "    #TODO"
      ]
    },
    {
      "cell_type": "code",
      "execution_count": null,
      "metadata": {
        "id": "ad3lK2B8Srie"
      },
      "outputs": [],
      "source": [
        "def test_degree_centrality():\n",
        "    social_network = load_unweighted_network(root+\"data/toy-nodes.csv\", root+\"data/toy-edges.csv\")\n",
        "    calculate_degree_centrality(social_network)\n",
        "    dict_centrality = nx.get_node_attributes(social_network, 'degree_centrality')\n",
        "    best_node = max(dict_centrality, key=dict_centrality.get)\n",
        "    print(\"Highest degree centrality node: {} with {:.3f}\".format(best_node, dict_centrality[best_node]))\n",
        "test_degree_centrality()"
      ]
    },
    {
      "cell_type": "markdown",
      "metadata": {
        "id": "fhPWALjLSrig"
      },
      "source": [
        "## 2.2 Centralité de proximité / Closeness centrality (1 point)\n",
        "\n",
        "Une autre mesure simple pour trouver l'importance d'un sommet dans un réseau est la centralité de proximité. Elle se calcule $$C_{P}(i) = \\frac{1}{AvDist(i)}$$\n",
        "\n",
        "- i: un sommet dans le réseau\n",
        "- AvDist: la moyenne de toutes les distances les plus courtes pour atteindre chaque sommet à partir du sommet i\n",
        "\n",
        "#### Implémentation\n",
        "1. Implémenter la fonction `calculate_closeness_centrality`. Cette fonction calcule la centralité de proximité pour tous les sommets du réseau et ajoute cette mesure à chaque sommet. Considérer chaque arête comme une distance de 1.\n",
        "\n",
        "**NB**: Utiliser la fonction `shortest_path()` du module Networkx pour trouver le chemin le plus court entre des sommets\n",
        "\n",
        "Utilisez la fonction `test_closeness_centrality` pour vérifier votre implémentation. Le sommet 7 devrait avoir la plus haute mesure de 0.577.\n",
        "\n",
        "---\n",
        "\n",
        "Another simple measure for finding the importance of a node in a network is closeness centrality. It is calculated $$C_{P}(i) = \\frac{1}{AvDist(i)}$$\n",
        "\n",
        "- i: a node in the network\n",
        "- AvDist: the average of all shortest distances to reach each vertex from vertex i\n",
        "\n",
        "#### Implementation\n",
        "1. Implement the function `calculate_closeness_centrality`. This function calculates closeness centrality for all nodes in the network and adds this measurement to each node. Consider each edge as a distance of 1.\n",
        "\n",
        "**NB**: Use the fucntion `shortest_path()` from Networkx to find the shortest path between two nodes.\n",
        "\n",
        "Use the function `test_closeness_centrality` to verify your implementation. The best node should be node 7 with 0.577."
      ]
    },
    {
      "cell_type": "code",
      "execution_count": null,
      "metadata": {
        "id": "534teZVYSrii"
      },
      "outputs": [],
      "source": [
        "def calculate_closeness_centrality(social_network):\n",
        "    #TODO"
      ]
    },
    {
      "cell_type": "code",
      "execution_count": null,
      "metadata": {
        "id": "wVQG0XiFSril"
      },
      "outputs": [],
      "source": [
        "def test_closeness_centrality():\n",
        "    social_network = load_unweighted_network(root+\"data/toy-nodes.csv\", root+\"data/toy-edges.csv\")\n",
        "    calculate_closeness_centrality(social_network)\n",
        "    dict_centrality = nx.get_node_attributes(social_network, 'closeness_centrality')\n",
        "    best_node = max(dict_centrality, key=dict_centrality.get)\n",
        "    print(\"Highest closeness centrality node: {} with {:.3f}\".format(best_node, dict_centrality[best_node]))\n",
        "\n",
        "test_closeness_centrality()"
      ]
    },
    {
      "cell_type": "markdown",
      "metadata": {
        "id": "OHTdy58OSrir"
      },
      "source": [
        "## 2.3 Centralité d'intermédiarité / Betweeness centrality (1 point)\n",
        "\n",
        "Une dernière mesure simple pour trouver l'importance d'un sommet dans un réseau est la centralité d'intermédiarité. Elle se calcule $$C_{I}(i) = \\frac{\\sum_{j<k}f_{jk}(i)}{\\binom{n-1}{2}}$$\n",
        "\n",
        "- n: le nombre de sommets dans le réseau\n",
        "- i: un sommet dans le réseau\n",
        "- j,k: deux sommets dans le réseau excluant i\n",
        "- $f_{jk}(i)$: la proportion des chemin le plus court partant du sommet j vers un sommet k (> j) passant par le sommet i \n",
        "\n",
        "#### Implémentation\n",
        "1. Implémenter la fonction `calculate_betweenness_centrality`. Cette fonction calcule la centralité d'intermédiarité pour tous les sommets du réseau et ajoute cette mesure à chaque sommet.\n",
        "\n",
        "**NB**: Utilisez la fonction `all_shortest_paths()` de Networkx pour calculer tous les chemins simples les plus courts du graphe.\n",
        "\n",
        "Utilisez la fonction `test_betweennes_centrality` pour vérifier votre implémentation. Le sommet 7 devrait avoir la plus haute mesure de 0.525.\n",
        "\n",
        "---\n",
        "\n",
        "A final simple measure to find the importance of a node in a network is the betweeness centrality. It is calculated $$C_{I}(i) = \\frac{\\sum_{j<k}f_{jk}(i)}{\\binom{n-1}{2}}$$\n",
        "\n",
        "- n: the number of nodes in the network\n",
        "- i: a node in the network\n",
        "- j,k: two nodes in the network excluding i\n",
        "- $f_{jk}(i)$: the proportion of shortest paths from vertex j to vertex k (> j) passing through node i\n",
        "\n",
        "#### Implementation\n",
        "1. Implement the function `calculate_betweenness_centrality`.This function calculates the betweenness centrality for all the nodes of the network and adds this measurement to each node.\n",
        "\n",
        "**NB**: Use the fucntion `all_shortest_paths()` from Networkx to compute all shortest simple paths in the graph.\n",
        "\n",
        "Use the function `test_betweennes_centrality` to verify your implementation. The best node should be the node 7 with 0.525.\n"
      ]
    },
    {
      "cell_type": "code",
      "execution_count": null,
      "metadata": {
        "id": "_D2n5C0JSris"
      },
      "outputs": [],
      "source": [
        "def calculate_betweenness_centrality(social_network):\n",
        "    #TODO"
      ]
    },
    {
      "cell_type": "code",
      "execution_count": null,
      "metadata": {
        "id": "PGVYdrAOSriu"
      },
      "outputs": [],
      "source": [
        "def test_betweenness_centrality():\n",
        "    social_network = load_unweighted_network(root+\"data/toy-nodes.csv\", root+\"data/toy-edges.csv\")\n",
        "    calculate_betweenness_centrality(social_network)\n",
        "    dict_centrality = nx.get_node_attributes(social_network, 'betweenness_centrality')\n",
        "    best_node = max(dict_centrality, key=dict_centrality.get)\n",
        "    print(\"Highest betweenness centrality node: {} with {:.3f}\".format(best_node, dict_centrality[best_node]))\n",
        "\n",
        "test_betweenness_centrality()"
      ]
    },
    {
      "cell_type": "markdown",
      "metadata": {
        "id": "996_M0-sXG0w"
      },
      "source": [
        "## 2.4 Analyse de vos résultats / Analysis of your results (3 points)\n",
        "\n",
        "Executez les trois fonctions sur les réseaux de chaque saison et présentez le top 10 pour chaque mesure. **Les graphes des saisons 2, 4, 6 et 8 sont déconnectés. Dans ce cas, considérez la plus grande composante connexe**. Pour chaque saison, comparez le top 10 des mesures avec la liste de morts de la saison disponible dans les csv death. Répondez aux questions suivantes. Elles sont des pistes de réflexions pour votre analyse.\n",
        "\n",
        "- Est-ce que le top 10 est suffisant pour trouver les morts importants de chaque saison? \n",
        "- Quelle mesure semble mieux prédire les morts? \n",
        "- Est-ce que la réputation de Games of Thrones de tuer plusieurs de ses personnages importants est fondée?\n",
        "\n",
        "**N.B.:** Si vous ne connaissez pas la série et vous n'êtes pas sûrs quels morts peuvent être considérés importants, faites une recherche Google sur les personnages importants. Mentionnez votre démarche et la conclusion de vos recherches. Il n'y a pas une liste précise de morts importants. Évidemment si vous me dite que Daenerys n'est pas importante, je vais douter de vos recherches. Le but est de voir votre travail de réflexion et d'analyse des mesures de centralité. \n",
        "\n",
        "---\n",
        "\n",
        "Run the three functions on the networks of each season and present the top 10 for each metric. **The season 2, 4, 6 and 8 graphs are disconnected. In that case, consider the largest connected component**. For each season, compare the top 10 metrics with the season's death list in the death csv. Answer the following questions. They are guide for your analysis.\n",
        "\n",
        "- Is the top 10 enough to find the significant deaths of each season? \n",
        "- What measure seems to better predict the dead? \n",
        "- Is the reputation of Games of Thrones for killing many important characters founded?\n",
        "\n",
        "**N.B:** If you don't know the series and aren't sure which deaths are considered important, do a Google research on the important characters in the series. Metion your research and the conclusion of it. There isn't a precise list of important deaths but if you tell me that Daenerys isn't important, I will doubt of the seriousness of your research. The goal is to see how your analyse the results giving by centrality metrics."
      ]
    },
    {
      "cell_type": "markdown",
      "metadata": {
        "id": "y_S1YvI0Sriy"
      },
      "source": [
        "### Résultats / Results"
      ]
    },
    {
      "cell_type": "code",
      "execution_count": null,
      "metadata": {
        "id": "mtYPFnJ3Sri2"
      },
      "outputs": [],
      "source": [
        "# Mettez le code pour présenter les résultats ici"
      ]
    },
    {
      "cell_type": "markdown",
      "metadata": {
        "id": "DeeyaJnKnDGB"
      },
      "source": [
        "### Analyse / Analysis\n",
        "\n",
        "Here due to some students not having prior knowledge about GoT the answers can be various on if they got all major deaths or not. but they should reach the conclusion that GoT does kill important characters without fear. also for s7 the network being so connected, it is hard with only the top 10 to get death especially since that season has little deaths. As for the best metrics, that would depend on their results but I seem to get that each metric detect the same people with closeness on the lead a little bit."
      ]
    },
    {
      "cell_type": "markdown",
      "metadata": {
        "id": "tUUuZF2ZWr0t"
      },
      "source": [
        "# 3. DeepWalk (6 points)\n",
        "\n",
        "##  Prédiction de lien \n",
        "Une autre analyse intéressante à faire avec un réseau social est la prédiction de liens. En regardant les liens actuels, il est possible de déterminer la probabilité qu'un lien apparaisse entre deux personnes dans le réseau. Pour ce TP, on vous demande d'implémenter le modèle de DeepWalk pour transformer les informations contenues dans le réseau et utiliser les **embeddings** pour prédire des liens.\n",
        "\n",
        "## DeepWalk\n",
        "Le modèle de DeepWalk est basé sur l'idée de traiter un réseau social comme un texte. On peut ainsi utiliser des techniques d'apprentissage machine pour du traitement de language. C'est un modèle en deux étapes. La première étape est de contruire le \"dictionnaire\" du réseau en explorant le voisinage de chaque sommet. La deuxième étape applique l'algorithme SkipGram sur le \"dictionnaire\" pour apprendre les *embeddings* pertinents. Le réseau est maintenant transformé et prêt à être traité par des techniques de NLP.\n",
        "\n",
        "## GOT datasets\n",
        "Nous vous demandons de choisir une saison de GoT excluant les **saisons 2, 4 et 6** pour tester votre implémentation du modèle. Enlever un lien fort, un lien moyen et un lien faible d'un sommet du réseau. Nous voulons voir si le modèle est capable de retourver ces 3 liens pour le sommet.\n",
        "\n",
        "---\n",
        "##  Link prediction\n",
        "Another interesting graph manipulation is link prediction. By looking at current links between nodes, the probability of connecting two nodes can be predicted. In this part of the TP, we want you to implement the DeepWalk model to transform the information in the graph to be used with NLP models to predict links.\n",
        "\n",
        "## DeepWalk\n",
        "The DeepWalk model is based on the idea that social network can be treated like a text. As such, NLP techniques can be used to mine a social network. It is a 2 step model. The first step builds the network's dictionnary by exploring the network. The second step use the SkipGram algorithm to transform the dictionnary in embeddings. The network is then ready to be used by NLP techniques.\n",
        "\n",
        "## GOT datasets\n",
        "We ask you to choose a GOT season excluding **season 2, 4 and 6** to test your implementation. Remove a strong, medium and low link from one node. We want to see if the model can find those links again.\n",
        "\n"
      ]
    },
    {
      "cell_type": "code",
      "execution_count": null,
      "metadata": {
        "id": "nj-bJnwlW26w"
      },
      "outputs": [],
      "source": [
        "import random as rnd\n",
        "import numpy as np\n",
        "import pandas as pd\n",
        "import networkx as nx\n",
        "import math\n",
        "\n",
        "\n",
        "def softmax(x):\n",
        "    e_x = np.exp(x - np.max(x))\n",
        "    return e_x / e_x.sum()\n",
        "\n",
        "\n",
        "class DeepWalk:\n",
        "    def __init__(self, graph):\n",
        "        self.graph = graph\n",
        "\n",
        "        self.random_walks = []\n",
        "        self.walk_length = None\n",
        "        self.n_walk = None\n",
        "\n",
        "        self.node_index = None\n",
        "        self.training_data = None\n",
        "\n",
        "        self.n_neurons = None\n",
        "        self.epochs = None\n",
        "        self.embeddings = None\n",
        "        self.W1 = None\n",
        "        self.loss = 0\n",
        "        self.alpha = 0.00001\n",
        "        self.init = None\n",
        "\n",
        "    def random_walk(self, start_node):\n",
        "        # TODO\n",
        "\n",
        "    def build_random_walks_matrix(self, n_walk, walk_length):\n",
        "        # TODO\n",
        "\n",
        "    def create_training(self, window_size):\n",
        "        # TODO\n",
        "\n",
        "    def neural_network(self, epochs, n_neurons):\n",
        "        self.n_neurons = n_neurons\n",
        "        self.epochs = epochs\n",
        "        self.init = math.sqrt(6 /\n",
        "                              (self.graph.number_of_nodes() + self.n_neurons))\n",
        "        self.embeddings = np.random.uniform(\n",
        "            -self.init, self.init,\n",
        "            (self.graph.number_of_nodes(), self.n_neurons))\n",
        "        self.W1 = np.random.uniform(\n",
        "            -self.init, self.init,\n",
        "            (self.n_neurons, self.graph.number_of_nodes()))\n",
        "\n",
        "        for x in range(1, epochs):\n",
        "            self.loss = []\n",
        "            for x_data, y_data in self.training_data:\n",
        "                self._feed_forward(x_data)\n",
        "                self._backpropagate(x_data, y_data)\n",
        "                C = 0\n",
        "                sub_loss = 0\n",
        "                for m in range(self.graph.number_of_nodes()):\n",
        "                    if y_data[m]:\n",
        "                        sub_loss += -1 * self.u[m][0]\n",
        "                        C += 1\n",
        "                sub_loss += C * np.log(np.sum(np.exp(self.u)))\n",
        "                self.loss.append(sub_loss)\n",
        "            self.loss = np.mean(self.loss)\n",
        "            print(\"epoch \", x, \" loss = \", self.loss)\n",
        "            self.alpha *= 1 / (1 + self.alpha * x)\n",
        "\n",
        "    def skip_gram(self, window_size, epochs, n_neurons):\n",
        "        self.create_training(window_size)\n",
        "        self.neural_network(epochs, n_neurons)\n",
        "        return self.embeddings, self.W1\n",
        "\n",
        "    def _feed_forward(self, X):\n",
        "        self.h = np.dot(self.embeddings.T, X).reshape(self.n_neurons, 1)\n",
        "        self.u = np.dot(self.W1.T, self.h)\n",
        "        self.y = softmax(self.u)\n",
        "        return self.y\n",
        "\n",
        "    def _backpropagate(self, x, t):\n",
        "        # e is a vector V x 1\n",
        "        e = self.y - np.asarray(t).reshape(self.graph.number_of_nodes(), 1)\n",
        "        dLdW1 = np.dot(self.h, e.T)\n",
        "        X = np.array(x).reshape(self.graph.number_of_nodes(), 1)\n",
        "        dLdW = np.dot(X, np.dot(self.W1, e).T)\n",
        "        self.W1 = self.W1 - self.alpha * dLdW1\n",
        "        self.embeddings = self.embeddings - self.alpha * dLdW\n"
      ]
    },
    {
      "cell_type": "markdown",
      "metadata": {
        "id": "sTnNxQvMW36X"
      },
      "source": [
        "## 3.1 Random-walk (2 points)\n",
        " \n",
        "La première étape du modèle DeepWalk consiste à parcourir de manière aléatoire le réseau pour se construire un \"dictionnaire\" du réseau. La marche aléatoire dépend de deux paramètres: le nombre de marche(n_walk) et la longueur de la marche(walk_length). La longeur de la marche correspond au nombre de sommets dans la marche. En explorant le graphe, le modèle se construit des \"contextes\" à partir des liens entres les sommets. On peut considérer cela comme des phrases ou des extraits de phrases dans un texte. Deux sommets sont similaires si leur contexte le sont aussi.\n",
        " \n",
        " \n",
        "Implémentation\n",
        "1. Implémenter la fonction `random_walk`. Cette fonction retourne une marche aléatoire à partir du sommet donné en paramètre. **N.B:** considérer que les attributs `self.n_walk` et `self.walk_length` ont déjà été initialisé avec les bonnes valeurs.\n",
        "2. Implémenter la fonction `build_random_walks_matrix`. Cette fonction trouve le voisinage de tous les sommets du réseau. Cela génère donc une matrice de taille (nbre_sommet * n_walk) x walk_length, car chaque sommet a n_walk marches aléatoires. Cette matrice est contenu dans `self.random_walks`.\n",
        "\n",
        "Pour augmenter la composante aléatoire de la matrice, l'ordre des sommets doit aussi être aléatoire. Il ne faut pas que les n_walk premières rangées contiennent toutes les marches pour le même sommet du graphe ou que les marches suivent toujours le même ordre de sommets. \n",
        "\n",
        "---\n",
        "The first step in the DeepWalk model is to create the dictionary by exploring the network randomly. The random walk depends on two parameters: the number of walks(`n_walk`) the length of the walk(`walk_length`). The length of the walk is the number of node in the walk. By exploring the graph, the model builds context with the links between nodes. Those links make up \"sentences\". Nodes are similar if their context are similar.\n",
        "\n",
        "Implementation\n",
        "\n",
        "1. Implement the function `random_walk`. This function returns a random walk starting with the node `start_node`. N.B: consider that self.n_walk and self.walk_length are already initialize with the right values.\n",
        "2. Implement the function `build_random_walks_matrix`. This function finds the neighborhood for all the nodes in the network. This generates a (`n_nodes` * `n_walk`) x `walk_length` matrix. Each node has n_walk random walks. The matrix is stored in `self.random_walks`.\n",
        "\n",
        "To ensure randomness in the matrix, the order of the nodes have to be random too. The n_walk first rows can't contains walk from the same node or that the walks always follow the same node order.\n"
      ]
    },
    {
      "cell_type": "code",
      "execution_count": null,
      "metadata": {
        "id": "5hsBqhXoW5tQ"
      },
      "outputs": [],
      "source": [
        "#TODO"
      ]
    },
    {
      "cell_type": "markdown",
      "metadata": {
        "id": "BF6zGRx9W8Hd"
      },
      "source": [
        "## 3.2 SkipGram (1 points)\n",
        " \n",
        "La deuxième étape consiste à transformer le \"dictionnaire\" en *embedding*.\n",
        "\n",
        "1. Commencer par créer l'ensemble d'entrainement à partir des marches aléatoires crées précédemment en implémentant la fonction `create_training`. Pour créer l'ensemble, il faut itérer à travers chaque sommet de chaque marche. Le sommet actuel est considéré comme le target. Il servira d'input. Son contexte/voisinage servira à vérifier la prédiction. Ce contexte correspond au `window_size` sommets avant et après le sommet actuel dans la marche. Ces paires de target/contexte sont conservés dans `self.training_data`.  Chaque  ligne contient un target et son contexte. Pour faciliter l'utilisation de ses informations un encoding one-hot est utilisé. Le target est donc un vecteur avec un 1 à l'index du sommet actuel. Le contexte est donc un vecteur avec des 1+(au cas où un sommet se retrouve plusieurs fois dans le voisinage) à l'index des sommets voisins. Le vocabulaire considéré pour l'encoding est l'ensemble des sommets dans le réseau. \n",
        "\n",
        "La fonction `skip_gram` est implémentée pour vous. Cette fonction utilise l'ensemble d'entrainement pour trouver les embedding des sommets. Pour faire cela, le modèle envoie chaque target dans un réseau de neurones à une couche et fait un sofmax sur le résultat pour comparer le résultat avec le contexte. Le réseau de neurone est implémenté dans la fonction `neural_network`.\n",
        "\n",
        "---\n",
        "\n",
        "The second step is to transform the dictionary in embedding.\n",
        "\n",
        "1. Start by creating a training set from the random walks created previously in the function `create_training_set`. Each node in each walk is considered as a target. The context/neighborhood is the `window_size` nodes before and after the target. The target is used as an input while the context is used as the groundtruth for the prediction. Those pairs of target/context are stored in `self.training_data`. Each row has the target followed by its context. That information is encoded with one-hot encoding. The target is then a vector with a 1 in the index of the actual node. The context is a vector with 1+ (for cases where a node appears multiple times in the neighborhood) in the index of the neighboring nodes. The vocabulary used for the encoding is all the nodes in the network.\n",
        "\n",
        "The function `skip_gram` is implemented for you. This function uses the training set to find the nodes' embedding. The model gives each target to the neural network and uses a softmax on the results to compare it with the context. The model then backpropagate the error to correct the embedding. The neural network is in the fonction `neural_network`."
      ]
    },
    {
      "cell_type": "code",
      "execution_count": null,
      "metadata": {
        "id": "zQCX79UDW96K"
      },
      "outputs": [],
      "source": [
        "#TODO"
      ]
    },
    {
      "cell_type": "markdown",
      "metadata": {
        "id": "JSKyb_d_XAl8"
      },
      "source": [
        "## 3.3 Prédiction de liens / Link prediction (3 points)\n",
        " \n",
        "La dernière étape consiste à utiliser les *embedding* pour faire de la prédiction de lien.\n",
        "\n",
        "Nous vous demandons de choisir une saison de GoT excluant les **saisons 2, 4 et 6** pour tester votre implémentation du modèle. Enlevez un lien fort, un lien moyen et un lien faible d'un sommet du réseau. Utilisez la valeur de `weight` dans le csv de edge pour déterminer la force du lien. Après avoir enlevé les 3 liens, appliquez DeepWalk sur le graph résultant et utilisez les *embeddings* pour prédire des liens sur le sommet. Nous voulons voir si le modèle est capable de retourver ces 3 liens pour le sommet. Les embeddings sont dans self.embeddings. Chaque rangée correspond aux embeddings pour un sommet dans le réseau. Votre modèle devra prendre deux vecteurs et prédire 1 s'il y a un lien et 0 s'il n'y en a pas. **Indice**: deux vectors proches ont plus de chance d'être liés.\n",
        "\n",
        "Montrez et discutez des résultats obtenus. Répondez aux questions suivantes. Elles vous serviront de guides pour votre réflexion.\n",
        "\n",
        "- Expliquez votre modèle et pourquoi vous l'avez choisi.\n",
        "- Avez-vous réussi à trouver les 3 liens facilement?\n",
        "- Trouvez-vous des liens non-existants dans le graph de la saison actuelle?\n",
        "- Quels sont les impacts des paramètres sur vos résultats?\n",
        "\n",
        "---\n",
        "\n",
        "The last step is to use the embeddings to predict new links.\n",
        "\n",
        "We ask you to choose a GoT season **excluding the season 2, 4 and 6** to test your implementation. Remove a strong, medium and weak link from a node in the network. Use the `weight` value in the edge csv to check the links' strength. After removing the 3 links, apply the DeepWalk model on the resulting network and try to predict those 3 links. The embeddings are stored in self.embedding. Each row is the embedding for a node in the network. Your  model should take two vectors and output 1 for a link and 0 if not. **Hint**: linked vectors would be close with eact other.\n",
        "\n",
        "Show and discuss your result. Answer the following questions. They are guides for your reflexion.\n",
        "\n",
        "- Explain your model and why you chose it.\n",
        "- Did you find all 3 links?\n",
        "- Did you find links present in other seasons but not in this one?\n",
        "- How did the parameter impacts your results?\n"
      ]
    },
    {
      "cell_type": "markdown",
      "metadata": {
        "id": "pFO9JiPpXKBw"
      },
      "source": [
        "### Résultats / Results"
      ]
    },
    {
      "cell_type": "code",
      "execution_count": null,
      "metadata": {
        "id": "6edz43pQXK4p"
      },
      "outputs": [],
      "source": [
        "#TODO"
      ]
    },
    {
      "cell_type": "markdown",
      "metadata": {
        "id": "0uiPWwPDXMVl"
      },
      "source": [
        "### Analyse / Analysis\n"
      ]
    },
    {
      "cell_type": "markdown",
      "metadata": {
        "id": "CkphHCeeXNdi"
      },
      "source": [
        "Écrivez votre analyse ici"
      ]
    }
  ],
  "metadata": {
    "colab": {
      "collapsed_sections": [],
      "provenance": []
    },
    "kernelspec": {
      "display_name": "Python 3.10.4 ('venv': venv)",
      "language": "python",
      "name": "python3"
    },
    "language_info": {
      "codemirror_mode": {
        "name": "ipython",
        "version": 3
      },
      "file_extension": ".py",
      "mimetype": "text/x-python",
      "name": "python",
      "nbconvert_exporter": "python",
      "pygments_lexer": "ipython3",
      "version": "3.10.4"
    },
    "vscode": {
      "interpreter": {
        "hash": "d6423ef8abc2af7bb64c2029d2154781347db096c4516945fb39ea7e9d04d29b"
      }
    }
  },
  "nbformat": 4,
  "nbformat_minor": 0
}
